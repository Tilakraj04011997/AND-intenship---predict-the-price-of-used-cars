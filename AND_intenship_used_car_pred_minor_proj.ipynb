{
  "cells": [
    {
      "cell_type": "code",
      "execution_count": 1264,
      "metadata": {
        "id": "MIXniBrrFqA5"
      },
      "outputs": [],
      "source": [
        "#libraries\n",
        "import pandas as pd\n",
        "import numpy as np\n",
        "import matplotlib.pyplot as plt\n",
        "import seaborn as sns\n",
        "\n",
        "import warnings\n",
        "warnings.filterwarnings('ignore')\n",
        "%matplotlib inline"
      ]
    },
    {
      "cell_type": "code",
      "execution_count": 1265,
      "metadata": {
        "id": "4uGAcVBKFqA7"
      },
      "outputs": [],
      "source": [
        "#loading the data set\n",
        "car=pd.read_csv('/content/used_car_dataset.csv')"
      ]
    },
    {
      "cell_type": "markdown",
      "source": [
        "### **EDA**"
      ],
      "metadata": {
        "id": "NY-PI0MLc9SH"
      }
    },
    {
      "cell_type": "code",
      "execution_count": 1266,
      "metadata": {
        "colab": {
          "base_uri": "https://localhost:8080/",
          "height": 206
        },
        "id": "-eM1RNKnFqA8",
        "outputId": "a07ff070-f86f-4bc3-9612-87590815ac4a"
      },
      "outputs": [
        {
          "output_type": "execute_result",
          "data": {
            "text/plain": [
              "                                            car_name car_price_in_rupees  \\\n",
              "0  Hyundai Grand i10 Magna 1.2 Kappa VTVT [2017-2...         ₹ 4.45 Lakh   \n",
              "1                         Maruti Suzuki Alto 800 Lxi         ₹ 2.93 Lakh   \n",
              "2                            Tata Safari XZ Plus New        ₹ 22.49 Lakh   \n",
              "3                            Maruti Suzuki Ciaz ZXI+         ₹ 6.95 Lakh   \n",
              "4     Jeep Compass Sport Plus 1.4 Petrol [2019-2020]           ₹ 12 Lakh   \n",
              "\n",
              "  kms_driven fuel_type       city  year_of_manufacture  \n",
              "0  22,402 km    Petrol     Mumbai                 2016  \n",
              "1  10,344 km    Petrol    Kolkata                 2019  \n",
              "2  12,999 km    Diesel  Bangalore                 2021  \n",
              "3  45,000 km    Petrol      Thane                 2016  \n",
              "4  11,193 km    Petrol    Kolkata                 2019  "
            ],
            "text/html": [
              "\n",
              "  <div id=\"df-57f568a4-3f03-4f99-b713-b009768aeb04\" class=\"colab-df-container\">\n",
              "    <div>\n",
              "<style scoped>\n",
              "    .dataframe tbody tr th:only-of-type {\n",
              "        vertical-align: middle;\n",
              "    }\n",
              "\n",
              "    .dataframe tbody tr th {\n",
              "        vertical-align: top;\n",
              "    }\n",
              "\n",
              "    .dataframe thead th {\n",
              "        text-align: right;\n",
              "    }\n",
              "</style>\n",
              "<table border=\"1\" class=\"dataframe\">\n",
              "  <thead>\n",
              "    <tr style=\"text-align: right;\">\n",
              "      <th></th>\n",
              "      <th>car_name</th>\n",
              "      <th>car_price_in_rupees</th>\n",
              "      <th>kms_driven</th>\n",
              "      <th>fuel_type</th>\n",
              "      <th>city</th>\n",
              "      <th>year_of_manufacture</th>\n",
              "    </tr>\n",
              "  </thead>\n",
              "  <tbody>\n",
              "    <tr>\n",
              "      <th>0</th>\n",
              "      <td>Hyundai Grand i10 Magna 1.2 Kappa VTVT [2017-2...</td>\n",
              "      <td>₹ 4.45 Lakh</td>\n",
              "      <td>22,402 km</td>\n",
              "      <td>Petrol</td>\n",
              "      <td>Mumbai</td>\n",
              "      <td>2016</td>\n",
              "    </tr>\n",
              "    <tr>\n",
              "      <th>1</th>\n",
              "      <td>Maruti Suzuki Alto 800 Lxi</td>\n",
              "      <td>₹ 2.93 Lakh</td>\n",
              "      <td>10,344 km</td>\n",
              "      <td>Petrol</td>\n",
              "      <td>Kolkata</td>\n",
              "      <td>2019</td>\n",
              "    </tr>\n",
              "    <tr>\n",
              "      <th>2</th>\n",
              "      <td>Tata Safari XZ Plus New</td>\n",
              "      <td>₹ 22.49 Lakh</td>\n",
              "      <td>12,999 km</td>\n",
              "      <td>Diesel</td>\n",
              "      <td>Bangalore</td>\n",
              "      <td>2021</td>\n",
              "    </tr>\n",
              "    <tr>\n",
              "      <th>3</th>\n",
              "      <td>Maruti Suzuki Ciaz ZXI+</td>\n",
              "      <td>₹ 6.95 Lakh</td>\n",
              "      <td>45,000 km</td>\n",
              "      <td>Petrol</td>\n",
              "      <td>Thane</td>\n",
              "      <td>2016</td>\n",
              "    </tr>\n",
              "    <tr>\n",
              "      <th>4</th>\n",
              "      <td>Jeep Compass Sport Plus 1.4 Petrol [2019-2020]</td>\n",
              "      <td>₹ 12 Lakh</td>\n",
              "      <td>11,193 km</td>\n",
              "      <td>Petrol</td>\n",
              "      <td>Kolkata</td>\n",
              "      <td>2019</td>\n",
              "    </tr>\n",
              "  </tbody>\n",
              "</table>\n",
              "</div>\n",
              "    <div class=\"colab-df-buttons\">\n",
              "\n",
              "  <div class=\"colab-df-container\">\n",
              "    <button class=\"colab-df-convert\" onclick=\"convertToInteractive('df-57f568a4-3f03-4f99-b713-b009768aeb04')\"\n",
              "            title=\"Convert this dataframe to an interactive table.\"\n",
              "            style=\"display:none;\">\n",
              "\n",
              "  <svg xmlns=\"http://www.w3.org/2000/svg\" height=\"24px\" viewBox=\"0 -960 960 960\">\n",
              "    <path d=\"M120-120v-720h720v720H120Zm60-500h600v-160H180v160Zm220 220h160v-160H400v160Zm0 220h160v-160H400v160ZM180-400h160v-160H180v160Zm440 0h160v-160H620v160ZM180-180h160v-160H180v160Zm440 0h160v-160H620v160Z\"/>\n",
              "  </svg>\n",
              "    </button>\n",
              "\n",
              "  <style>\n",
              "    .colab-df-container {\n",
              "      display:flex;\n",
              "      gap: 12px;\n",
              "    }\n",
              "\n",
              "    .colab-df-convert {\n",
              "      background-color: #E8F0FE;\n",
              "      border: none;\n",
              "      border-radius: 50%;\n",
              "      cursor: pointer;\n",
              "      display: none;\n",
              "      fill: #1967D2;\n",
              "      height: 32px;\n",
              "      padding: 0 0 0 0;\n",
              "      width: 32px;\n",
              "    }\n",
              "\n",
              "    .colab-df-convert:hover {\n",
              "      background-color: #E2EBFA;\n",
              "      box-shadow: 0px 1px 2px rgba(60, 64, 67, 0.3), 0px 1px 3px 1px rgba(60, 64, 67, 0.15);\n",
              "      fill: #174EA6;\n",
              "    }\n",
              "\n",
              "    .colab-df-buttons div {\n",
              "      margin-bottom: 4px;\n",
              "    }\n",
              "\n",
              "    [theme=dark] .colab-df-convert {\n",
              "      background-color: #3B4455;\n",
              "      fill: #D2E3FC;\n",
              "    }\n",
              "\n",
              "    [theme=dark] .colab-df-convert:hover {\n",
              "      background-color: #434B5C;\n",
              "      box-shadow: 0px 1px 3px 1px rgba(0, 0, 0, 0.15);\n",
              "      filter: drop-shadow(0px 1px 2px rgba(0, 0, 0, 0.3));\n",
              "      fill: #FFFFFF;\n",
              "    }\n",
              "  </style>\n",
              "\n",
              "    <script>\n",
              "      const buttonEl =\n",
              "        document.querySelector('#df-57f568a4-3f03-4f99-b713-b009768aeb04 button.colab-df-convert');\n",
              "      buttonEl.style.display =\n",
              "        google.colab.kernel.accessAllowed ? 'block' : 'none';\n",
              "\n",
              "      async function convertToInteractive(key) {\n",
              "        const element = document.querySelector('#df-57f568a4-3f03-4f99-b713-b009768aeb04');\n",
              "        const dataTable =\n",
              "          await google.colab.kernel.invokeFunction('convertToInteractive',\n",
              "                                                    [key], {});\n",
              "        if (!dataTable) return;\n",
              "\n",
              "        const docLinkHtml = 'Like what you see? Visit the ' +\n",
              "          '<a target=\"_blank\" href=https://colab.research.google.com/notebooks/data_table.ipynb>data table notebook</a>'\n",
              "          + ' to learn more about interactive tables.';\n",
              "        element.innerHTML = '';\n",
              "        dataTable['output_type'] = 'display_data';\n",
              "        await google.colab.output.renderOutput(dataTable, element);\n",
              "        const docLink = document.createElement('div');\n",
              "        docLink.innerHTML = docLinkHtml;\n",
              "        element.appendChild(docLink);\n",
              "      }\n",
              "    </script>\n",
              "  </div>\n",
              "\n",
              "\n",
              "<div id=\"df-78a16f2e-8994-4d8a-ae70-d7a24163617f\">\n",
              "  <button class=\"colab-df-quickchart\" onclick=\"quickchart('df-78a16f2e-8994-4d8a-ae70-d7a24163617f')\"\n",
              "            title=\"Suggest charts\"\n",
              "            style=\"display:none;\">\n",
              "\n",
              "<svg xmlns=\"http://www.w3.org/2000/svg\" height=\"24px\"viewBox=\"0 0 24 24\"\n",
              "     width=\"24px\">\n",
              "    <g>\n",
              "        <path d=\"M19 3H5c-1.1 0-2 .9-2 2v14c0 1.1.9 2 2 2h14c1.1 0 2-.9 2-2V5c0-1.1-.9-2-2-2zM9 17H7v-7h2v7zm4 0h-2V7h2v10zm4 0h-2v-4h2v4z\"/>\n",
              "    </g>\n",
              "</svg>\n",
              "  </button>\n",
              "\n",
              "<style>\n",
              "  .colab-df-quickchart {\n",
              "      --bg-color: #E8F0FE;\n",
              "      --fill-color: #1967D2;\n",
              "      --hover-bg-color: #E2EBFA;\n",
              "      --hover-fill-color: #174EA6;\n",
              "      --disabled-fill-color: #AAA;\n",
              "      --disabled-bg-color: #DDD;\n",
              "  }\n",
              "\n",
              "  [theme=dark] .colab-df-quickchart {\n",
              "      --bg-color: #3B4455;\n",
              "      --fill-color: #D2E3FC;\n",
              "      --hover-bg-color: #434B5C;\n",
              "      --hover-fill-color: #FFFFFF;\n",
              "      --disabled-bg-color: #3B4455;\n",
              "      --disabled-fill-color: #666;\n",
              "  }\n",
              "\n",
              "  .colab-df-quickchart {\n",
              "    background-color: var(--bg-color);\n",
              "    border: none;\n",
              "    border-radius: 50%;\n",
              "    cursor: pointer;\n",
              "    display: none;\n",
              "    fill: var(--fill-color);\n",
              "    height: 32px;\n",
              "    padding: 0;\n",
              "    width: 32px;\n",
              "  }\n",
              "\n",
              "  .colab-df-quickchart:hover {\n",
              "    background-color: var(--hover-bg-color);\n",
              "    box-shadow: 0 1px 2px rgba(60, 64, 67, 0.3), 0 1px 3px 1px rgba(60, 64, 67, 0.15);\n",
              "    fill: var(--button-hover-fill-color);\n",
              "  }\n",
              "\n",
              "  .colab-df-quickchart-complete:disabled,\n",
              "  .colab-df-quickchart-complete:disabled:hover {\n",
              "    background-color: var(--disabled-bg-color);\n",
              "    fill: var(--disabled-fill-color);\n",
              "    box-shadow: none;\n",
              "  }\n",
              "\n",
              "  .colab-df-spinner {\n",
              "    border: 2px solid var(--fill-color);\n",
              "    border-color: transparent;\n",
              "    border-bottom-color: var(--fill-color);\n",
              "    animation:\n",
              "      spin 1s steps(1) infinite;\n",
              "  }\n",
              "\n",
              "  @keyframes spin {\n",
              "    0% {\n",
              "      border-color: transparent;\n",
              "      border-bottom-color: var(--fill-color);\n",
              "      border-left-color: var(--fill-color);\n",
              "    }\n",
              "    20% {\n",
              "      border-color: transparent;\n",
              "      border-left-color: var(--fill-color);\n",
              "      border-top-color: var(--fill-color);\n",
              "    }\n",
              "    30% {\n",
              "      border-color: transparent;\n",
              "      border-left-color: var(--fill-color);\n",
              "      border-top-color: var(--fill-color);\n",
              "      border-right-color: var(--fill-color);\n",
              "    }\n",
              "    40% {\n",
              "      border-color: transparent;\n",
              "      border-right-color: var(--fill-color);\n",
              "      border-top-color: var(--fill-color);\n",
              "    }\n",
              "    60% {\n",
              "      border-color: transparent;\n",
              "      border-right-color: var(--fill-color);\n",
              "    }\n",
              "    80% {\n",
              "      border-color: transparent;\n",
              "      border-right-color: var(--fill-color);\n",
              "      border-bottom-color: var(--fill-color);\n",
              "    }\n",
              "    90% {\n",
              "      border-color: transparent;\n",
              "      border-bottom-color: var(--fill-color);\n",
              "    }\n",
              "  }\n",
              "</style>\n",
              "\n",
              "  <script>\n",
              "    async function quickchart(key) {\n",
              "      const quickchartButtonEl =\n",
              "        document.querySelector('#' + key + ' button');\n",
              "      quickchartButtonEl.disabled = true;  // To prevent multiple clicks.\n",
              "      quickchartButtonEl.classList.add('colab-df-spinner');\n",
              "      try {\n",
              "        const charts = await google.colab.kernel.invokeFunction(\n",
              "            'suggestCharts', [key], {});\n",
              "      } catch (error) {\n",
              "        console.error('Error during call to suggestCharts:', error);\n",
              "      }\n",
              "      quickchartButtonEl.classList.remove('colab-df-spinner');\n",
              "      quickchartButtonEl.classList.add('colab-df-quickchart-complete');\n",
              "    }\n",
              "    (() => {\n",
              "      let quickchartButtonEl =\n",
              "        document.querySelector('#df-78a16f2e-8994-4d8a-ae70-d7a24163617f button');\n",
              "      quickchartButtonEl.style.display =\n",
              "        google.colab.kernel.accessAllowed ? 'block' : 'none';\n",
              "    })();\n",
              "  </script>\n",
              "</div>\n",
              "\n",
              "    </div>\n",
              "  </div>\n"
            ],
            "application/vnd.google.colaboratory.intrinsic+json": {
              "type": "dataframe",
              "variable_name": "car",
              "summary": "{\n  \"name\": \"car\",\n  \"rows\": 2105,\n  \"fields\": [\n    {\n      \"column\": \"car_name\",\n      \"properties\": {\n        \"dtype\": \"category\",\n        \"num_unique_values\": 946,\n        \"samples\": [\n          \"Hyundai Grand i10 Sportz (O) AT 1.2 Kappa VTVT [2017-2018]\",\n          \"Maruti Suzuki Swift VDi\",\n          \"Mahindra KUV100 NXT K8 6 STR [2017-2020]\"\n        ],\n        \"semantic_type\": \"\",\n        \"description\": \"\"\n      }\n    },\n    {\n      \"column\": \"car_price_in_rupees\",\n      \"properties\": {\n        \"dtype\": \"category\",\n        \"num_unique_values\": 811,\n        \"samples\": [\n          \"\\u20b9 58 Lakh\",\n          \"\\u20b9 3.43 Lakh\",\n          \"\\u20b9 4.83 Lakh\"\n        ],\n        \"semantic_type\": \"\",\n        \"description\": \"\"\n      }\n    },\n    {\n      \"column\": \"kms_driven\",\n      \"properties\": {\n        \"dtype\": \"string\",\n        \"num_unique_values\": 1628,\n        \"samples\": [\n          \"32,407 km\",\n          \"52,613 km\",\n          \"34,841 km\"\n        ],\n        \"semantic_type\": \"\",\n        \"description\": \"\"\n      }\n    },\n    {\n      \"column\": \"fuel_type\",\n      \"properties\": {\n        \"dtype\": \"category\",\n        \"num_unique_values\": 8,\n        \"samples\": [\n          \"Diesel\",\n          \"Petrol + 1\",\n          \"Petrol\"\n        ],\n        \"semantic_type\": \"\",\n        \"description\": \"\"\n      }\n    },\n    {\n      \"column\": \"city\",\n      \"properties\": {\n        \"dtype\": \"category\",\n        \"num_unique_values\": 16,\n        \"samples\": [\n          \"Mumbai\",\n          \"Kolkata\",\n          \"Ahmedabad\"\n        ],\n        \"semantic_type\": \"\",\n        \"description\": \"\"\n      }\n    },\n    {\n      \"column\": \"year_of_manufacture\",\n      \"properties\": {\n        \"dtype\": \"number\",\n        \"std\": 2,\n        \"min\": 2004,\n        \"max\": 2022,\n        \"num_unique_values\": 19,\n        \"samples\": [\n          2016,\n          2018,\n          2009\n        ],\n        \"semantic_type\": \"\",\n        \"description\": \"\"\n      }\n    }\n  ]\n}"
            }
          },
          "metadata": {},
          "execution_count": 1266
        }
      ],
      "source": [
        "car.head()"
      ]
    },
    {
      "cell_type": "code",
      "execution_count": 1267,
      "metadata": {
        "colab": {
          "base_uri": "https://localhost:8080/"
        },
        "id": "y9VA5k2lFqA9",
        "outputId": "c92b9ff8-5d8a-47f4-b3c1-d8696170c0c5"
      },
      "outputs": [
        {
          "output_type": "execute_result",
          "data": {
            "text/plain": [
              "(2105, 6)"
            ]
          },
          "metadata": {},
          "execution_count": 1267
        }
      ],
      "source": [
        "car.shape"
      ]
    },
    {
      "cell_type": "code",
      "execution_count": 1268,
      "metadata": {
        "colab": {
          "base_uri": "https://localhost:8080/"
        },
        "id": "JZqLwCuSFqA9",
        "outputId": "3f543f8c-de92-4ce5-f874-827cef24fafc"
      },
      "outputs": [
        {
          "output_type": "stream",
          "name": "stdout",
          "text": [
            "<class 'pandas.core.frame.DataFrame'>\n",
            "RangeIndex: 2105 entries, 0 to 2104\n",
            "Data columns (total 6 columns):\n",
            " #   Column               Non-Null Count  Dtype \n",
            "---  ------               --------------  ----- \n",
            " 0   car_name             2105 non-null   object\n",
            " 1   car_price_in_rupees  2105 non-null   object\n",
            " 2   kms_driven           2105 non-null   object\n",
            " 3   fuel_type            2105 non-null   object\n",
            " 4   city                 2105 non-null   object\n",
            " 5   year_of_manufacture  2105 non-null   int64 \n",
            "dtypes: int64(1), object(5)\n",
            "memory usage: 98.8+ KB\n"
          ]
        }
      ],
      "source": [
        "car.info()"
      ]
    },
    {
      "cell_type": "markdown",
      "source": [
        "### **Pre-processing**"
      ],
      "metadata": {
        "id": "lZjtLoRtdFIM"
      }
    },
    {
      "cell_type": "code",
      "source": [
        "car['year_of_manufacture'].unique()"
      ],
      "metadata": {
        "colab": {
          "base_uri": "https://localhost:8080/"
        },
        "id": "3B35jEwuGE0w",
        "outputId": "b7f0d031-bbf1-4c2d-81ec-d5357fa3de9f"
      },
      "execution_count": 1269,
      "outputs": [
        {
          "output_type": "execute_result",
          "data": {
            "text/plain": [
              "array([2016, 2019, 2021, 2017, 2013, 2018, 2007, 2022, 2014, 2020, 2015,\n",
              "       2009, 2011, 2010, 2012, 2008, 2006, 2004, 2005])"
            ]
          },
          "metadata": {},
          "execution_count": 1269
        }
      ]
    },
    {
      "cell_type": "code",
      "source": [
        "car['year_of_manufacture'].value_counts()"
      ],
      "metadata": {
        "colab": {
          "base_uri": "https://localhost:8080/"
        },
        "id": "JgL5ia3CGkb8",
        "outputId": "ecdec18e-fc0e-435b-b50a-950573cd5c88"
      },
      "execution_count": 1270,
      "outputs": [
        {
          "output_type": "execute_result",
          "data": {
            "text/plain": [
              "2018    358\n",
              "2017    297\n",
              "2019    249\n",
              "2016    217\n",
              "2015    204\n",
              "2020    180\n",
              "2021    169\n",
              "2014    145\n",
              "2013     97\n",
              "2022     55\n",
              "2012     55\n",
              "2011     33\n",
              "2010     20\n",
              "2009     11\n",
              "2007      6\n",
              "2008      6\n",
              "2006      1\n",
              "2004      1\n",
              "2005      1\n",
              "Name: year_of_manufacture, dtype: int64"
            ]
          },
          "metadata": {},
          "execution_count": 1270
        }
      ]
    },
    {
      "cell_type": "code",
      "source": [
        "car['car_price_in_rupees'].unique()"
      ],
      "metadata": {
        "colab": {
          "base_uri": "https://localhost:8080/"
        },
        "id": "HasyTBwFGwAU",
        "outputId": "44a906cb-d26f-4dc1-992b-74d9c5b88723"
      },
      "execution_count": 1271,
      "outputs": [
        {
          "output_type": "execute_result",
          "data": {
            "text/plain": [
              "array(['₹ 4.45 Lakh', '₹ 2.93 Lakh', '₹ 22.49 Lakh', '₹ 6.95 Lakh',\n",
              "       '₹ 12 Lakh', '₹ 3.72 Lakh', '₹ 11.5 Lakh', '₹ 10.39 Lakh',\n",
              "       '₹ 3.75 Lakh', '₹ 4.25 Lakh', '₹ 6.75 Lakh', '₹ 4.49 Lakh',\n",
              "       '₹ 3 Lakh', '₹ 9.5 Lakh', '₹ 13.25 Lakh', '₹ 9.25 Lakh',\n",
              "       '₹ 95 Lakh', '₹ 8.71 Lakh', '₹ 3.35 Lakh', '₹ 9.88 Lakh',\n",
              "       '₹ 1.15 Crore', '₹ 11 Lakh', '₹ 9.9 Lakh', '₹ 3.45 Lakh',\n",
              "       '₹ 37.49 Lakh', '₹ 6.39 Lakh', '₹ 8.9 Lakh', '₹ 6.59 Lakh',\n",
              "       '₹ 3.92 Lakh', '₹ 8 Lakh', '₹ 7.75 Lakh', '₹ 11.52 Lakh',\n",
              "       '₹ 16.75 Lakh', '₹ 8.5 Lakh', '₹ 5.93 Lakh', '₹ 4.15 Lakh',\n",
              "       '₹ 18.5 Lakh', '₹ 2.4 Lakh', '₹ 11.99 Lakh', '₹ 8.95 Lakh',\n",
              "       '₹ 9.68 Lakh', '₹ 81 Lakh', '₹ 4.93 Lakh', '₹ 10.5 Lakh',\n",
              "       '₹ 7.85 Lakh', '₹ 38.99 Lakh', '₹ 31 Lakh', '₹ 4.85 Lakh',\n",
              "       '₹ 4.35 Lakh', '₹ 4.51 Lakh', '₹ 5.45 Lakh', '₹ 4.5 Lakh',\n",
              "       '₹ 6.81 Lakh', '₹ 3.95 Lakh', '₹ 11.43 Lakh', '₹ 23 Lakh',\n",
              "       '₹ 12.75 Lakh', '₹ 5.99 Lakh', '₹ 16.2 Lakh', '₹ 4.2 Lakh',\n",
              "       '₹ 4.75 Lakh', '₹ 66 Lakh', '₹ 68.99 Lakh', '₹ 4.41 Lakh',\n",
              "       '₹ 29.5 Lakh', '₹ 5.9 Lakh', '₹ 4.14 Lakh', '₹ 2.85 Lakh',\n",
              "       '₹ 7.1 Lakh', '₹ 13.95 Lakh', '₹ 3.2 Lakh', '₹ 6.29 Lakh',\n",
              "       '₹ 6.51 Lakh', '₹ 2.89 Lakh', '₹ 8.97 Lakh', '₹ 2.76 Lakh',\n",
              "       '₹ 6.9 Lakh', '₹ 10.44 Lakh', '₹ 7.35 Lakh', '₹ 3.9 Lakh',\n",
              "       '₹ 25 Lakh', '₹ 11.25 Lakh', '₹ 9.79 Lakh', '₹ 4.99 Lakh',\n",
              "       '₹ 16.59 Lakh', '₹ 4.76 Lakh', '₹ 7.39 Lakh', '₹ 6.28 Lakh',\n",
              "       '₹ 4.09 Lakh', '₹ 7.95 Lakh', '₹ 11.9 Lakh', '₹ 2.99 Lakh',\n",
              "       '₹ 3.91 Lakh', '₹ 5.8 Lakh', '₹ 19.25 Lakh', '₹ 3.4 Lakh',\n",
              "       '₹ 6.33 Lakh', '₹ 3.96 Lakh', '₹ 24.75 Lakh', '₹ 4.91 Lakh',\n",
              "       '₹ 7.4 Lakh', '₹ 5.85 Lakh', '₹ 3.85 Lakh', '₹ 42.5 Lakh',\n",
              "       '₹ 7.99 Lakh', '₹ 18.9 Lakh', '₹ 4.07 Lakh', '₹ 8.3 Lakh',\n",
              "       '₹ 7.6 Lakh', '₹ 9.55 Lakh', '₹ 8.75 Lakh', '₹ 2.5 Lakh',\n",
              "       '₹ 14 Lakh', '₹ 5.95 Lakh', '₹ 6.79 Lakh', '₹ 6.6 Lakh',\n",
              "       '₹ 6.87 Lakh', '₹ 3.04 Lakh', '₹ 5.29 Lakh', '₹ 4.16 Lakh',\n",
              "       '₹ 3.01 Lakh', '₹ 9.41 Lakh', '₹ 23.75 Lakh', '₹ 4.9 Lakh',\n",
              "       '₹ 3.31 Lakh', '₹ 2.35 Lakh', '₹ 13.9 Lakh', '₹ 21.5 Lakh',\n",
              "       '₹ 12.04 Lakh', '₹ 5.57 Lakh', '₹ 5.79 Lakh', '₹ 5.54 Lakh',\n",
              "       '₹ 43 Lakh', '₹ 18.95 Lakh', '₹ 10 Lakh', '₹ 8.85 Lakh',\n",
              "       '₹ 4.84 Lakh', '₹ 7.15 Lakh', '₹ 4.62 Lakh', '₹ 34.99 Lakh',\n",
              "       '₹ 10.25 Lakh', '₹ 1.8 Lakh', '₹ 16 Lakh', '₹ 20.95 Lakh',\n",
              "       '₹ 4.6 Lakh', '₹ 3.42 Lakh', '₹ 6.85 Lakh', '₹ 2.1 Lakh',\n",
              "       '₹ 41 Lakh', '₹ 10.75 Lakh', '₹ 17.99 Lakh', '₹ 7.11 Lakh',\n",
              "       '₹ 11.49 Lakh', '₹ 5.24 Lakh', '₹ 19 Lakh', '₹ 7.5 Lakh',\n",
              "       '₹ 12.85 Lakh', '₹ 8.55 Lakh', '₹ 8.99 Lakh', '₹ 3.48 Lakh',\n",
              "       '₹ 8.11 Lakh', '₹ 5.67 Lakh', '₹ 21 Lakh', '₹ 5.25 Lakh',\n",
              "       '₹ 22.57 Lakh', '₹ 5.75 Lakh', '₹ 7.45 Lakh', '₹ 7.08 Lakh',\n",
              "       '₹ 3.38 Lakh', '₹ 4.34 Lakh', '₹ 61.75 Lakh', '₹ 32 Lakh',\n",
              "       '₹ 8.72 Lakh', '₹ 6.5 Lakh', '₹ 4.95 Lakh', '₹ 15.25 Lakh',\n",
              "       '₹ 4.32 Lakh', '₹ 7.25 Lakh', '₹ 4.33 Lakh', '₹ 7.2 Lakh',\n",
              "       '₹ 16.95 Lakh', '₹ 5.1 Lakh', '₹ 5.65 Lakh', '₹ 2.25 Lakh',\n",
              "       '₹ 19.99 Lakh', '₹ 37.75 Lakh', '₹ 32.5 Lakh', '₹ 44 Lakh',\n",
              "       '₹ 4.65 Lakh', '₹ 4.53 Lakh', '₹ 5.34 Lakh', '₹ 2.05 Lakh',\n",
              "       '₹ 15.5 Lakh', '₹ 17.9 Lakh', '₹ 5.38 Lakh', '₹ 57.5 Lakh',\n",
              "       '₹ 6.3 Lakh', '₹ 46 Lakh', '₹ 21.75 Lakh', '₹ 59 Lakh',\n",
              "       '₹ 9.98 Lakh', '₹ 3.25 Lakh', '₹ 16.9 Lakh', '₹ 4.3 Lakh',\n",
              "       '₹ 3.3 Lakh', '₹ 59.5 Lakh', '₹ 6.13 Lakh', '₹ 5.59 Lakh',\n",
              "       '₹ 68 Lakh', '₹ 16.99 Lakh', '₹ 14.9 Lakh', '₹ 17.1 Lakh',\n",
              "       '₹ 3.13 Lakh', '₹ 3.32 Lakh', '₹ 26.5 Lakh', '₹ 9.75 Lakh',\n",
              "       '₹ 3.5 Lakh', '₹ 35 Lakh', '₹ 4.06 Lakh', '₹ 5.4 Lakh', '₹ 5 Lakh',\n",
              "       '₹ 16.49 Lakh', '₹ 8.83 Lakh', '₹ 6.74 Lakh', '₹ 4.05 Lakh',\n",
              "       '₹ 78.57 Lakh', '₹ 4.17 Lakh', '₹ 4.83 Lakh', '₹ 5.89 Lakh',\n",
              "       '₹ 2.9 Lakh', '₹ 5.49 Lakh', '₹ 10.64 Lakh', '₹ 77 Lakh',\n",
              "       '₹ 10.59 Lakh', '₹ 3.17 Lakh', '₹ 10.4 Lakh', '₹ 1.23 Crore',\n",
              "       '₹ 4.71 Lakh', '₹ 7.49 Lakh', '₹ 7.47 Lakh', '₹ 1.9 Lakh',\n",
              "       '₹ 6.45 Lakh', '₹ 3.26 Lakh', '₹ 21.45 Lakh', '₹ 9.51 Lakh',\n",
              "       '₹ 14.65 Lakh', '₹ 28 Lakh', '₹ 58 Lakh', '₹ 6.11 Lakh',\n",
              "       '₹ 64.5 Lakh', '₹ 6 Lakh', '₹ 6.25 Lakh', '₹ 11.26 Lakh',\n",
              "       '₹ 30.56 Lakh', '₹ 3.57 Lakh', '₹ 5.21 Lakh', '₹ 4.39 Lakh',\n",
              "       '₹ 45.99 Lakh', '₹ 14.19 Lakh', '₹ 4.89 Lakh', '₹ 10.29 Lakh',\n",
              "       '₹ 22.87 Lakh', '₹ 7.9 Lakh', '₹ 8.45 Lakh', '₹ 8.49 Lakh',\n",
              "       '₹ 5.35 Lakh', '₹ 5.69 Lakh', '₹ 33.75 Lakh', '₹ 10.82 Lakh',\n",
              "       '₹ 6.99 Lakh', '₹ 5.23 Lakh', '₹ 5.48 Lakh', '₹ 5.19 Lakh',\n",
              "       '₹ 1.1 Lakh', '₹ 11.4 Lakh', '₹ 7.21 Lakh', '₹ 8.87 Lakh',\n",
              "       '₹ 2.95 Lakh', '₹ 17.5 Lakh', '₹ 8.25 Lakh', '₹ 26 Lakh',\n",
              "       '₹ 6.66 Lakh', '₹ 10.66 Lakh', '₹ 3.49 Lakh', '₹ 2.45 Lakh',\n",
              "       '₹ 65 Lakh', '₹ 18.75 Lakh', '₹ 4.24 Lakh', '₹ 5.96 Lakh',\n",
              "       '₹ 28.5 Lakh', '₹ 8.4 Lakh', '₹ 6.96 Lakh', '₹ 8.1 Lakh',\n",
              "       '₹ 33 Lakh', '₹ 22 Lakh', '₹ 17.25 Lakh', '₹ 7.3 Lakh',\n",
              "       '₹ 6.7 Lakh', '₹ 8.42 Lakh', '₹ 36 Lakh', '₹ 8.15 Lakh',\n",
              "       '₹ 8.79 Lakh', '₹ 10.19 Lakh', '₹ 5.18 Lakh', '₹ 3.79 Lakh',\n",
              "       '₹ 8.65 Lakh', '₹ 9.3 Lakh', '₹ 1.6 Lakh', '₹ 6.65 Lakh',\n",
              "       '₹ 20.5 Lakh', '₹ 9.8 Lakh', '₹ 7.04 Lakh', '₹ 6.1 Lakh',\n",
              "       '₹ 48.5 Lakh', '₹ 6.53 Lakh', '₹ 6.2 Lakh', '₹ 47.9 Lakh',\n",
              "       '₹ 5.27 Lakh', '₹ 28.78 Lakh', '₹ 6.15 Lakh', '₹ 12.9 Lakh',\n",
              "       '₹ 10.13 Lakh', '₹ 7 Lakh', '₹ 17.49 Lakh', '₹ 24.49 Lakh',\n",
              "       '₹ 8.57 Lakh', '₹ 4.54 Lakh', '₹ 22.5 Lakh', '₹ 14.75 Lakh',\n",
              "       '₹ 2.92 Lakh', '₹ 18.25 Lakh', '₹ 5.26 Lakh', '₹ 60,000',\n",
              "       '₹ 3.1 Lakh', '₹ 6.55 Lakh', '₹ 16.85 Lakh', '₹ 4.64 Lakh',\n",
              "       '₹ 16.92 Lakh', '₹ 22.95 Lakh', '₹ 3.59 Lakh', '₹ 7.33 Lakh',\n",
              "       '₹ 33.5 Lakh', '₹ 6.49 Lakh', '₹ 8.2 Lakh', '₹ 11.37 Lakh',\n",
              "       '₹ 2.23 Lakh', '₹ 9.45 Lakh', '₹ 2.67 Lakh', '₹ 9.49 Lakh',\n",
              "       '₹ 3.27 Lakh', '₹ 3.7 Lakh', '₹ 12.51 Lakh', '₹ 47.5 Lakh',\n",
              "       '₹ 48 Lakh', '₹ 9.85 Lakh', '₹ 27.5 Lakh', '₹ 7.12 Lakh',\n",
              "       '₹ 5.56 Lakh', '₹ 10.2 Lakh', '₹ 5.7 Lakh', '₹ 15 Lakh',\n",
              "       '₹ 19.5 Lakh', '₹ 10.65 Lakh', '₹ 93 Lakh', '₹ 51.95 Lakh',\n",
              "       '₹ 32.6 Lakh', '₹ 4.46 Lakh', '₹ 5.42 Lakh', '₹ 12.25 Lakh',\n",
              "       '₹ 7.31 Lakh', '₹ 53 Lakh', '₹ 15.13 Lakh', '₹ 11.55 Lakh',\n",
              "       '₹ 15.74 Lakh', '₹ 2.98 Lakh', '₹ 5.5 Lakh', '₹ 4.82 Lakh',\n",
              "       '₹ 14.25 Lakh', '₹ 5.6 Lakh', '₹ 8.62 Lakh', '₹ 4.63 Lakh',\n",
              "       '₹ 9 Lakh', '₹ 9.91 Lakh', '₹ 7.61 Lakh', '₹ 7.79 Lakh',\n",
              "       '₹ 3.76 Lakh', '₹ 2.65 Lakh', '₹ 3.69 Lakh', '₹ 6.54 Lakh',\n",
              "       '₹ 3.51 Lakh', '₹ 3.8 Lakh', '₹ 9.11 Lakh', '₹ 19.75 Lakh',\n",
              "       '₹ 3.15 Lakh', '₹ 8.59 Lakh', '₹ 10.03 Lakh', '₹ 6.73 Lakh',\n",
              "       '₹ 78.99 Lakh', '₹ 13.83 Lakh', '₹ 3.19 Lakh', '₹ 24 Lakh',\n",
              "       '₹ 61.5 Lakh', '₹ 21.43 Lakh', '₹ 4 Lakh', '₹ 74 Lakh',\n",
              "       '₹ 4.79 Lakh', '₹ 13.5 Lakh', '₹ 8.51 Lakh', '₹ 14.91 Lakh',\n",
              "       '₹ 42.75 Lakh', '₹ 6.37 Lakh', '₹ 4.77 Lakh', '₹ 5.36 Lakh',\n",
              "       '₹ 30 Lakh', '₹ 16.11 Lakh', '₹ 19.9 Lakh', '₹ 26.49 Lakh',\n",
              "       '₹ 7.78 Lakh', '₹ 6.83 Lakh', '₹ 5.64 Lakh', '₹ 3.05 Lakh',\n",
              "       '₹ 14.99 Lakh', '₹ 7.7 Lakh', '₹ 19.2 Lakh', '₹ 10.9 Lakh',\n",
              "       '₹ 3.89 Lakh', '₹ 6.34 Lakh', '₹ 9.96 Lakh', '₹ 11.17 Lakh',\n",
              "       '₹ 22.51 Lakh', '₹ 18.66 Lakh', '₹ 8.8 Lakh', '₹ 6.89 Lakh',\n",
              "       '₹ 4.1 Lakh', '₹ 4.86 Lakh', '₹ 3.64 Lakh', '₹ 13.75 Lakh',\n",
              "       '₹ 15.8 Lakh', '₹ 3.61 Lakh', '₹ 1.75 Lakh', '₹ 4.28 Lakh',\n",
              "       '₹ 10.24 Lakh', '₹ 7.65 Lakh', '₹ 23.95 Lakh', '₹ 69.75 Lakh',\n",
              "       '₹ 5.3 Lakh', '₹ 5.53 Lakh', '₹ 6.69 Lakh', '₹ 15.79 Lakh',\n",
              "       '₹ 1.5 Lakh', '₹ 13 Lakh', '₹ 7.23 Lakh', '₹ 5.58 Lakh',\n",
              "       '₹ 6.18 Lakh', '₹ 3.78 Lakh', '₹ 9.99 Lakh', '₹ 10.99 Lakh',\n",
              "       '₹ 9.13 Lakh', '₹ 6.86 Lakh', '₹ 8.47 Lakh', '₹ 4.11 Lakh',\n",
              "       '₹ 2.7 Lakh', '₹ 9.22 Lakh', '₹ 5.31 Lakh', '₹ 24.26 Lakh',\n",
              "       '₹ 7.69 Lakh', '₹ 29.75 Lakh', '₹ 12.13 Lakh', '₹ 9.54 Lakh',\n",
              "       '₹ 9.31 Lakh', '₹ 49.5 Lakh', '₹ 10.95 Lakh', '₹ 6.52 Lakh',\n",
              "       '₹ 6.21 Lakh', '₹ 61 Lakh', '₹ 9.74 Lakh', '₹ 10.23 Lakh',\n",
              "       '₹ 16.82 Lakh', '₹ 4.19 Lakh', '₹ 4.87 Lakh', '₹ 2.82 Lakh',\n",
              "       '₹ 4.52 Lakh', '₹ 9.1 Lakh', '₹ 16.5 Lakh', '₹ 13.53 Lakh',\n",
              "       '₹ 12.5 Lakh', '₹ 5.71 Lakh', '₹ 10.76 Lakh', '₹ 7.19 Lakh',\n",
              "       '₹ 3.09 Lakh', '₹ 18.99 Lakh', '₹ 10.72 Lakh', '₹ 20.31 Lakh',\n",
              "       '₹ 27.51 Lakh', '₹ 32.75 Lakh', '₹ 6.41 Lakh', '₹ 7.89 Lakh',\n",
              "       '₹ 38 Lakh', '₹ 2.09 Lakh', '₹ 9.78 Lakh', '₹ 14.56 Lakh',\n",
              "       '₹ 3.99 Lakh', '₹ 4.61 Lakh', '₹ 6.4 Lakh', '₹ 23.76 Lakh',\n",
              "       '₹ 24.85 Lakh', '₹ 7.91 Lakh', '₹ 11.95 Lakh', '₹ 24.5 Lakh',\n",
              "       '₹ 5.11 Lakh', '₹ 10.45 Lakh', '₹ 7.59 Lakh', '₹ 3.21 Lakh',\n",
              "       '₹ 18 Lakh', '₹ 2.69 Lakh', '₹ 6.44 Lakh', '₹ 5.55 Lakh',\n",
              "       '₹ 2.34 Lakh', '₹ 15.3 Lakh', '₹ 2.68 Lakh', '₹ 33.25 Lakh',\n",
              "       '₹ 6.48 Lakh', '₹ 5.44 Lakh', '₹ 7.55 Lakh', '₹ 2.2 Lakh',\n",
              "       '₹ 11.75 Lakh', '₹ 19.56 Lakh', '₹ 10.12 Lakh', '₹ 30.5 Lakh',\n",
              "       '₹ 25.59 Lakh', '₹ 9.36 Lakh', '₹ 19.4 Lakh', '₹ 2 Lakh',\n",
              "       '₹ 21.49 Lakh', '₹ 4.08 Lakh', '₹ 44.5 Lakh', '₹ 12.99 Lakh',\n",
              "       '₹ 9.42 Lakh', '₹ 15.95 Lakh', '₹ 8.32 Lakh', '₹ 17.45 Lakh',\n",
              "       '₹ 4.8 Lakh', '₹ 3.36 Lakh', '₹ 15.9 Lakh', '₹ 37 Lakh',\n",
              "       '₹ 8.68 Lakh', '₹ 10.46 Lakh', '₹ 11.71 Lakh', '₹ 5.92 Lakh',\n",
              "       '₹ 9.83 Lakh', '₹ 4.69 Lakh', '₹ 6.58 Lakh', '₹ 5.37 Lakh',\n",
              "       '₹ 4.31 Lakh', '₹ 27 Lakh', '₹ 3.67 Lakh', '₹ 10.97 Lakh',\n",
              "       '₹ 27.85 Lakh', '₹ 14.5 Lakh', '₹ 39.5 Lakh', '₹ 16.31 Lakh',\n",
              "       '₹ 15.98 Lakh', '₹ 8.43 Lakh', '₹ 9.59 Lakh', '₹ 11.45 Lakh',\n",
              "       '₹ 12.27 Lakh', '₹ 20 Lakh', '₹ 15.99 Lakh', '₹ 5.15 Lakh',\n",
              "       '₹ 7.52 Lakh', '₹ 6.04 Lakh', '₹ 2.46 Lakh', '₹ 20.7 Lakh',\n",
              "       '₹ 2.83 Lakh', '₹ 9.65 Lakh', '₹ 3.43 Lakh', '₹ 4.74 Lakh',\n",
              "       '₹ 3.14 Lakh', '₹ 64.99 Lakh', '₹ 26.99 Lakh', '₹ 53.55 Lakh',\n",
              "       '₹ 5.94 Lakh', '₹ 27.99 Lakh', '₹ 69.95 Lakh', '₹ 41.99 Lakh',\n",
              "       '₹ 43.07 Lakh', '₹ 63 Lakh', '₹ 3.82 Lakh', '₹ 2.55 Lakh',\n",
              "       '₹ 8.35 Lakh', '₹ 8.13 Lakh', '₹ 18.51 Lakh', '₹ 46.6 Lakh',\n",
              "       '₹ 5.2 Lakh', '₹ 85 Lakh', '₹ 4.01 Lakh', '₹ 7.67 Lakh',\n",
              "       '₹ 5.43 Lakh', '₹ 17 Lakh', '₹ 3.22 Lakh', '₹ 7.17 Lakh',\n",
              "       '₹ 3.65 Lakh', '₹ 4.98 Lakh', '₹ 10.6 Lakh', '₹ 9.95 Lakh',\n",
              "       '₹ 4.68 Lakh', '₹ 5.47 Lakh', '₹ 21.8 Lakh', '₹ 42.99 Lakh',\n",
              "       '₹ 4.4 Lakh', '₹ 6.57 Lakh', '₹ 1.99 Lakh', '₹ 3.39 Lakh',\n",
              "       '₹ 19.19 Lakh', '₹ 5.97 Lakh', '₹ 6.09 Lakh', '₹ 8.28 Lakh',\n",
              "       '₹ 11.05 Lakh', '₹ 3.66 Lakh', '₹ 8.12 Lakh', '₹ 35.95 Lakh',\n",
              "       '₹ 5.66 Lakh', '₹ 10.27 Lakh', '₹ 5.39 Lakh', '₹ 31.75 Lakh',\n",
              "       '₹ 1.19 Crore', '₹ 9.92 Lakh', '₹ 8.39 Lakh', '₹ 1.85 Lakh',\n",
              "       '₹ 7.29 Lakh', '₹ 32.99 Lakh', '₹ 8.04 Lakh', '₹ 4.48 Lakh',\n",
              "       '₹ 14.45 Lakh', '₹ 29 Lakh', '₹ 9.01 Lakh', '₹ 14.35 Lakh',\n",
              "       '₹ 4.7 Lakh', '₹ 7.02 Lakh', '₹ 12.6 Lakh', '₹ 1.95 Crore',\n",
              "       '₹ 11.61 Lakh', '₹ 3.87 Lakh', '₹ 9.56 Lakh', '₹ 22.99 Lakh',\n",
              "       '₹ 8.31 Lakh', '₹ 15.51 Lakh', '₹ 2.49 Lakh', '₹ 9.6 Lakh',\n",
              "       '₹ 15.23 Lakh', '₹ 3.94 Lakh', '₹ 3.6 Lakh', '₹ 4.55 Lakh',\n",
              "       '₹ 9.29 Lakh', '₹ 12.24 Lakh', '₹ 52 Lakh', '₹ 10.63 Lakh',\n",
              "       '₹ 23.49 Lakh', '₹ 3.29 Lakh', '₹ 49 Lakh', '₹ 9.64 Lakh',\n",
              "       '₹ 2.86 Lakh', '₹ 13.2 Lakh', '₹ 9.7 Lakh', '₹ 16.67 Lakh',\n",
              "       '₹ 8.14 Lakh', '₹ 16.25 Lakh', '₹ 7.37 Lakh', '₹ 6.06 Lakh',\n",
              "       '₹ 5.09 Lakh', '₹ 15.21 Lakh', '₹ 31.25 Lakh', '₹ 59.99 Lakh',\n",
              "       '₹ 6.07 Lakh', '₹ 29.95 Lakh', '₹ 8.53 Lakh', '₹ 72 Lakh',\n",
              "       '₹ 20.49 Lakh', '₹ 22.25 Lakh', '₹ 17.95 Lakh', '₹ 10.02 Lakh',\n",
              "       '₹ 13.69 Lakh', '₹ 8.08 Lakh', '₹ 15.45 Lakh', '₹ 1.81 Lakh',\n",
              "       '₹ 10.87 Lakh', '₹ 3.73 Lakh', '₹ 28.75 Lakh', '₹ 5.81 Lakh',\n",
              "       '₹ 10.06 Lakh', '₹ 26.75 Lakh', '₹ 3.41 Lakh', '₹ 32.95 Lakh',\n",
              "       '₹ 10.67 Lakh', '₹ 2.6 Lakh', '₹ 4.02 Lakh', '₹ 5.62 Lakh',\n",
              "       '₹ 9.39 Lakh', '₹ 6.35 Lakh', '₹ 44.37 Lakh', '₹ 8.66 Lakh',\n",
              "       '₹ 19.95 Lakh', '₹ 8.56 Lakh', '₹ 19.45 Lakh', '₹ 11.3 Lakh',\n",
              "       '₹ 3.84 Lakh', '₹ 8.91 Lakh', '₹ 99,991', '₹ 6.8 Lakh',\n",
              "       '₹ 17.91 Lakh', '₹ 3.23 Lakh', '₹ 5.51 Lakh', '₹ 22.88 Lakh',\n",
              "       '₹ 2.91 Lakh', '₹ 1.42 Lakh', '₹ 12.49 Lakh', '₹ 25.5 Lakh',\n",
              "       '₹ 45 Lakh', '₹ 15.4 Lakh', '₹ 70 Lakh', '₹ 10.11 Lakh',\n",
              "       '₹ 11.57 Lakh', '₹ 9.14 Lakh', '₹ 12.56 Lakh', '₹ 7.93 Lakh',\n",
              "       '₹ 12.65 Lakh', '₹ 4.94 Lakh', '₹ 2.01 Lakh', '₹ 4.27 Lakh',\n",
              "       '₹ 10.93 Lakh', '₹ 11.79 Lakh', '₹ 7.64 Lakh', '₹ 11.56 Lakh',\n",
              "       '₹ 5.82 Lakh', '₹ 10.22 Lakh', '₹ 11.04 Lakh', '₹ 6.23 Lakh',\n",
              "       '₹ 15.75 Lakh', '₹ 11.35 Lakh', '₹ 2.39 Lakh', '₹ 54 Lakh',\n",
              "       '₹ 8.21 Lakh', '₹ 4.96 Lakh', '₹ 37.85 Lakh', '₹ 8.29 Lakh',\n",
              "       '₹ 5.41 Lakh', '₹ 4.67 Lakh', '₹ 2.59 Lakh', '₹ 5.91 Lakh',\n",
              "       '₹ 5.68 Lakh', '₹ 7.09 Lakh', '₹ 8.01 Lakh', '₹ 2.81 Lakh',\n",
              "       '₹ 25.9 Lakh', '₹ 38.5 Lakh', '₹ 13.94 Lakh', '₹ 14.85 Lakh',\n",
              "       '₹ 1.36 Crore', '₹ 10.09 Lakh', '₹ 86 Lakh', '₹ 16.06 Lakh',\n",
              "       '₹ 15.49 Lakh', '₹ 11.36 Lakh', '₹ 42.85 Lakh', '₹ 11.67 Lakh',\n",
              "       '₹ 4.43 Lakh', '₹ 15.11 Lakh', '₹ 7.34 Lakh', '₹ 47 Lakh',\n",
              "       '₹ 22.9 Lakh', '₹ 5.05 Lakh', '₹ 2.75 Lakh', '₹ 4.92 Lakh',\n",
              "       '₹ 20.99 Lakh', '₹ 39 Lakh', '₹ 31.43 Lakh', '₹ 3.34 Lakh',\n",
              "       '₹ 13.41 Lakh', '₹ 55 Lakh', '₹ 18.65 Lakh', '₹ 1.71 Lakh',\n",
              "       '₹ 31.5 Lakh', '₹ 34.9 Lakh', '₹ 10.8 Lakh', '₹ 2.36 Lakh',\n",
              "       '₹ 24.95 Lakh', '₹ 62.5 Lakh', '₹ 31.89 Lakh', '₹ 41.9 Lakh',\n",
              "       '₹ 10.85 Lakh', '₹ 6.97 Lakh', '₹ 9.23 Lakh', '₹ 7.24 Lakh',\n",
              "       '₹ 3.98 Lakh', '₹ 60 Lakh', '₹ 8.7 Lakh', '₹ 5.32 Lakh',\n",
              "       '₹ 16.58 Lakh', '₹ 44.75 Lakh', '₹ 69 Lakh', '₹ 4.56 Lakh',\n",
              "       '₹ 6.77 Lakh', '₹ 26.15 Lakh', '₹ 8.89 Lakh', '₹ 7.06 Lakh',\n",
              "       '₹ 12.95 Lakh', '₹ 6.47 Lakh', '₹ 9.35 Lakh', '₹ 64 Lakh',\n",
              "       '₹ 8.38 Lakh', '₹ 8.76 Lakh'], dtype=object)"
            ]
          },
          "metadata": {},
          "execution_count": 1271
        }
      ]
    },
    {
      "cell_type": "code",
      "source": [
        "car['car_price_in_rupees']=car['car_price_in_rupees'].str.replace('Lakh','')\n",
        "\n",
        "car['car_price_in_rupees']=car['car_price_in_rupees'].str.replace('Crore','')\n",
        "\n",
        "car['car_price_in_rupees']=car['car_price_in_rupees'].str.replace(',','')"
      ],
      "metadata": {
        "id": "WB9j_ZfiINj8"
      },
      "execution_count": 1272,
      "outputs": []
    },
    {
      "cell_type": "code",
      "source": [
        "car['car_price_in_rupees']=car['car_price_in_rupees'].str.replace('₹','')"
      ],
      "metadata": {
        "id": "CvbegL-SJTnZ"
      },
      "execution_count": 1273,
      "outputs": []
    },
    {
      "cell_type": "code",
      "source": [
        "car['car_price_in_rupees'] = car['car_price_in_rupees'] .str.replace(' Lakh*', '').astype(float)\n",
        "\n",
        "car['car_price_in_rupees'] *= 100000"
      ],
      "metadata": {
        "id": "p_OcSwVuMEXz"
      },
      "execution_count": 1274,
      "outputs": []
    },
    {
      "cell_type": "code",
      "source": [
        "car['car_price_in_rupees'].head()"
      ],
      "metadata": {
        "colab": {
          "base_uri": "https://localhost:8080/"
        },
        "id": "in9j5aG6XTCq",
        "outputId": "1b7ff44c-af9e-4eff-9a94-25349fb6292f"
      },
      "execution_count": 1275,
      "outputs": [
        {
          "output_type": "execute_result",
          "data": {
            "text/plain": [
              "0     445000.0\n",
              "1     293000.0\n",
              "2    2249000.0\n",
              "3     695000.0\n",
              "4    1200000.0\n",
              "Name: car_price_in_rupees, dtype: float64"
            ]
          },
          "metadata": {},
          "execution_count": 1275
        }
      ]
    },
    {
      "cell_type": "code",
      "source": [
        "car['car_price_in_rupees'].astype(int)"
      ],
      "metadata": {
        "colab": {
          "base_uri": "https://localhost:8080/"
        },
        "id": "ZVR5PBuJakkd",
        "outputId": "16c8ce25-d4b4-4106-da5d-c93c60bf0e85"
      },
      "execution_count": 1276,
      "outputs": [
        {
          "output_type": "execute_result",
          "data": {
            "text/plain": [
              "0        445000\n",
              "1        293000\n",
              "2       2249000\n",
              "3        695000\n",
              "4       1200000\n",
              "         ...   \n",
              "2100     360000\n",
              "2101    2200000\n",
              "2102     838000\n",
              "2103     675000\n",
              "2104     876000\n",
              "Name: car_price_in_rupees, Length: 2105, dtype: int64"
            ]
          },
          "metadata": {},
          "execution_count": 1276
        }
      ]
    },
    {
      "cell_type": "code",
      "source": [
        "car.info()"
      ],
      "metadata": {
        "colab": {
          "base_uri": "https://localhost:8080/"
        },
        "id": "0gHJG3OfMEaM",
        "outputId": "c97950b8-b2fd-45d5-98a7-2e85ad9ae514"
      },
      "execution_count": 1277,
      "outputs": [
        {
          "output_type": "stream",
          "name": "stdout",
          "text": [
            "<class 'pandas.core.frame.DataFrame'>\n",
            "RangeIndex: 2105 entries, 0 to 2104\n",
            "Data columns (total 6 columns):\n",
            " #   Column               Non-Null Count  Dtype  \n",
            "---  ------               --------------  -----  \n",
            " 0   car_name             2105 non-null   object \n",
            " 1   car_price_in_rupees  2105 non-null   float64\n",
            " 2   kms_driven           2105 non-null   object \n",
            " 3   fuel_type            2105 non-null   object \n",
            " 4   city                 2105 non-null   object \n",
            " 5   year_of_manufacture  2105 non-null   int64  \n",
            "dtypes: float64(1), int64(1), object(4)\n",
            "memory usage: 98.8+ KB\n"
          ]
        }
      ]
    },
    {
      "cell_type": "code",
      "source": [
        "car['kms_driven'].unique()"
      ],
      "metadata": {
        "colab": {
          "base_uri": "https://localhost:8080/"
        },
        "id": "wj0v8shHKF6R",
        "outputId": "d4b6c734-d832-472b-d2ea-1ba078c2c7d6"
      },
      "execution_count": 1278,
      "outputs": [
        {
          "output_type": "execute_result",
          "data": {
            "text/plain": [
              "array(['22,402 km', '10,344 km', '12,999 km', ..., '37,622 km',\n",
              "       '64,726 km', '29,150 km'], dtype=object)"
            ]
          },
          "metadata": {},
          "execution_count": 1278
        }
      ]
    },
    {
      "cell_type": "code",
      "source": [
        "car['kms_driven'].value_counts()"
      ],
      "metadata": {
        "colab": {
          "base_uri": "https://localhost:8080/"
        },
        "id": "R_VgivS5KGUn",
        "outputId": "e8c1379c-0577-4ecc-a910-a949b5e2c5ee"
      },
      "execution_count": 1279,
      "outputs": [
        {
          "output_type": "execute_result",
          "data": {
            "text/plain": [
              "45,000 km    17\n",
              "65,000 km    12\n",
              "75,000 km    12\n",
              "52,000 km    11\n",
              "25,000 km    10\n",
              "             ..\n",
              "77,050 km     1\n",
              "11,363 km     1\n",
              "29,192 km     1\n",
              "82,899 km     1\n",
              "29,150 km     1\n",
              "Name: kms_driven, Length: 1628, dtype: int64"
            ]
          },
          "metadata": {},
          "execution_count": 1279
        }
      ]
    },
    {
      "cell_type": "code",
      "source": [
        "car['kms_driven']=car['kms_driven'].str.replace('km','')"
      ],
      "metadata": {
        "id": "GaXY79xYKGWh"
      },
      "execution_count": 1280,
      "outputs": []
    },
    {
      "cell_type": "code",
      "source": [
        "car['kms_driven']=car['kms_driven'].str.replace(',','')"
      ],
      "metadata": {
        "id": "Ge_mUfAKLIdc"
      },
      "execution_count": 1281,
      "outputs": []
    },
    {
      "cell_type": "code",
      "source": [
        "car['kms_driven'] = car['kms_driven'].astype(int)"
      ],
      "metadata": {
        "id": "tkB0mB0PKoJZ"
      },
      "execution_count": 1282,
      "outputs": []
    },
    {
      "cell_type": "code",
      "source": [
        "car.info()"
      ],
      "metadata": {
        "colab": {
          "base_uri": "https://localhost:8080/"
        },
        "id": "pKXKQDC4LSBv",
        "outputId": "060f4e13-05a8-430a-e5d8-d87fd4d4d5a5"
      },
      "execution_count": 1283,
      "outputs": [
        {
          "output_type": "stream",
          "name": "stdout",
          "text": [
            "<class 'pandas.core.frame.DataFrame'>\n",
            "RangeIndex: 2105 entries, 0 to 2104\n",
            "Data columns (total 6 columns):\n",
            " #   Column               Non-Null Count  Dtype  \n",
            "---  ------               --------------  -----  \n",
            " 0   car_name             2105 non-null   object \n",
            " 1   car_price_in_rupees  2105 non-null   float64\n",
            " 2   kms_driven           2105 non-null   int64  \n",
            " 3   fuel_type            2105 non-null   object \n",
            " 4   city                 2105 non-null   object \n",
            " 5   year_of_manufacture  2105 non-null   int64  \n",
            "dtypes: float64(1), int64(2), object(3)\n",
            "memory usage: 98.8+ KB\n"
          ]
        }
      ]
    },
    {
      "cell_type": "code",
      "source": [
        "car['fuel_type'].unique()"
      ],
      "metadata": {
        "colab": {
          "base_uri": "https://localhost:8080/"
        },
        "id": "kfbA4R3PLSOa",
        "outputId": "684cf294-963e-4393-f6dd-0c97c584c61a"
      },
      "execution_count": 1284,
      "outputs": [
        {
          "output_type": "execute_result",
          "data": {
            "text/plain": [
              "array(['Petrol', 'Diesel', 'Diesel + 1', 'Electric', 'CNG', 'Petrol + 1',\n",
              "       'Hybrid', 'LPG'], dtype=object)"
            ]
          },
          "metadata": {},
          "execution_count": 1284
        }
      ]
    },
    {
      "cell_type": "code",
      "source": [
        "car['fuel_type'].value_counts()"
      ],
      "metadata": {
        "colab": {
          "base_uri": "https://localhost:8080/"
        },
        "id": "o6kwKrEoLnm9",
        "outputId": "9b3c2d66-6aef-4bb3-fe08-cb4022e9e924"
      },
      "execution_count": 1285,
      "outputs": [
        {
          "output_type": "execute_result",
          "data": {
            "text/plain": [
              "Petrol        1348\n",
              "Diesel         636\n",
              "CNG             82\n",
              "Petrol + 1      18\n",
              "Electric        10\n",
              "Diesel + 1       7\n",
              "Hybrid           2\n",
              "LPG              2\n",
              "Name: fuel_type, dtype: int64"
            ]
          },
          "metadata": {},
          "execution_count": 1285
        }
      ]
    },
    {
      "cell_type": "code",
      "source": [
        "#null values\n",
        "car.isnull().sum()"
      ],
      "metadata": {
        "colab": {
          "base_uri": "https://localhost:8080/"
        },
        "id": "pN7Ek41WLnpQ",
        "outputId": "2d161b5a-5335-4e48-9aaf-57a06cf32e01"
      },
      "execution_count": 1286,
      "outputs": [
        {
          "output_type": "execute_result",
          "data": {
            "text/plain": [
              "car_name               0\n",
              "car_price_in_rupees    0\n",
              "kms_driven             0\n",
              "fuel_type              0\n",
              "city                   0\n",
              "year_of_manufacture    0\n",
              "dtype: int64"
            ]
          },
          "metadata": {},
          "execution_count": 1286
        }
      ]
    },
    {
      "cell_type": "code",
      "source": [
        "#duplicates\n",
        "car.duplicated().sum()"
      ],
      "metadata": {
        "colab": {
          "base_uri": "https://localhost:8080/"
        },
        "id": "OZWI-FRVMcdE",
        "outputId": "906f1880-78f5-4238-e510-72d8a88d1e2d"
      },
      "execution_count": 1287,
      "outputs": [
        {
          "output_type": "execute_result",
          "data": {
            "text/plain": [
              "92"
            ]
          },
          "metadata": {},
          "execution_count": 1287
        }
      ]
    },
    {
      "cell_type": "code",
      "source": [
        "car.drop_duplicates(inplace=True)"
      ],
      "metadata": {
        "id": "KA4TJvR-Mckb"
      },
      "execution_count": 1288,
      "outputs": []
    },
    {
      "cell_type": "code",
      "source": [
        "car.duplicated().sum()"
      ],
      "metadata": {
        "colab": {
          "base_uri": "https://localhost:8080/"
        },
        "id": "Y7b4ERVFNE66",
        "outputId": "521d7121-ae9e-400a-95f0-ffd4fe7e1927"
      },
      "execution_count": 1289,
      "outputs": [
        {
          "output_type": "execute_result",
          "data": {
            "text/plain": [
              "0"
            ]
          },
          "metadata": {},
          "execution_count": 1289
        }
      ]
    },
    {
      "cell_type": "code",
      "execution_count": 1290,
      "metadata": {
        "colab": {
          "base_uri": "https://localhost:8080/"
        },
        "id": "5HW_EJPoFqBC",
        "outputId": "cd7749d8-89b8-47d1-ba5a-ae8a442136ac"
      },
      "outputs": [
        {
          "output_type": "execute_result",
          "data": {
            "text/plain": [
              "(2013, 6)"
            ]
          },
          "metadata": {},
          "execution_count": 1290
        }
      ],
      "source": [
        "car.shape"
      ]
    },
    {
      "cell_type": "code",
      "source": [
        "car['car_name']=car['car_name'].str.split().str.slice(start=0,stop=1).str.join(' ')"
      ],
      "metadata": {
        "id": "OrGnvX-4Ke8R"
      },
      "execution_count": 1291,
      "outputs": []
    },
    {
      "cell_type": "code",
      "execution_count": 1292,
      "metadata": {
        "id": "ha8oBFDkFqBC"
      },
      "outputs": [],
      "source": [
        "car=car.reset_index(drop=True)"
      ]
    },
    {
      "cell_type": "markdown",
      "metadata": {
        "id": "5BoXhnR_FqBD"
      },
      "source": [
        "## Cleaned Data"
      ]
    },
    {
      "cell_type": "code",
      "execution_count": 1293,
      "metadata": {
        "colab": {
          "base_uri": "https://localhost:8080/",
          "height": 424
        },
        "id": "bmtqTUnNFqBD",
        "outputId": "3f6ffdab-8d34-4593-932d-f787e92dbd5b"
      },
      "outputs": [
        {
          "output_type": "execute_result",
          "data": {
            "text/plain": [
              "     car_name  car_price_in_rupees  kms_driven fuel_type       city  \\\n",
              "0     Hyundai             445000.0       22402    Petrol     Mumbai   \n",
              "1      Maruti             293000.0       10344    Petrol    Kolkata   \n",
              "2        Tata            2249000.0       12999    Diesel  Bangalore   \n",
              "3      Maruti             695000.0       45000    Petrol      Thane   \n",
              "4        Jeep            1200000.0       11193    Petrol    Kolkata   \n",
              "...       ...                  ...         ...       ...        ...   \n",
              "2008     Ford             360000.0       42158    Diesel    Kolkata   \n",
              "2009     MINI            2200000.0       68862    Diesel  Hyderabad   \n",
              "2010  Hyundai             838000.0       37622    Petrol    Chennai   \n",
              "2011   Maruti             675000.0       64726    Petrol     Mumbai   \n",
              "2012  Hyundai             876000.0       29150    Petrol       Pune   \n",
              "\n",
              "      year_of_manufacture  \n",
              "0                    2016  \n",
              "1                    2019  \n",
              "2                    2021  \n",
              "3                    2016  \n",
              "4                    2019  \n",
              "...                   ...  \n",
              "2008                 2015  \n",
              "2009                 2013  \n",
              "2010                 2018  \n",
              "2011                 2017  \n",
              "2012                 2017  \n",
              "\n",
              "[2013 rows x 6 columns]"
            ],
            "text/html": [
              "\n",
              "  <div id=\"df-c52e4ff4-6e42-4934-a563-eada5261f821\" class=\"colab-df-container\">\n",
              "    <div>\n",
              "<style scoped>\n",
              "    .dataframe tbody tr th:only-of-type {\n",
              "        vertical-align: middle;\n",
              "    }\n",
              "\n",
              "    .dataframe tbody tr th {\n",
              "        vertical-align: top;\n",
              "    }\n",
              "\n",
              "    .dataframe thead th {\n",
              "        text-align: right;\n",
              "    }\n",
              "</style>\n",
              "<table border=\"1\" class=\"dataframe\">\n",
              "  <thead>\n",
              "    <tr style=\"text-align: right;\">\n",
              "      <th></th>\n",
              "      <th>car_name</th>\n",
              "      <th>car_price_in_rupees</th>\n",
              "      <th>kms_driven</th>\n",
              "      <th>fuel_type</th>\n",
              "      <th>city</th>\n",
              "      <th>year_of_manufacture</th>\n",
              "    </tr>\n",
              "  </thead>\n",
              "  <tbody>\n",
              "    <tr>\n",
              "      <th>0</th>\n",
              "      <td>Hyundai</td>\n",
              "      <td>445000.0</td>\n",
              "      <td>22402</td>\n",
              "      <td>Petrol</td>\n",
              "      <td>Mumbai</td>\n",
              "      <td>2016</td>\n",
              "    </tr>\n",
              "    <tr>\n",
              "      <th>1</th>\n",
              "      <td>Maruti</td>\n",
              "      <td>293000.0</td>\n",
              "      <td>10344</td>\n",
              "      <td>Petrol</td>\n",
              "      <td>Kolkata</td>\n",
              "      <td>2019</td>\n",
              "    </tr>\n",
              "    <tr>\n",
              "      <th>2</th>\n",
              "      <td>Tata</td>\n",
              "      <td>2249000.0</td>\n",
              "      <td>12999</td>\n",
              "      <td>Diesel</td>\n",
              "      <td>Bangalore</td>\n",
              "      <td>2021</td>\n",
              "    </tr>\n",
              "    <tr>\n",
              "      <th>3</th>\n",
              "      <td>Maruti</td>\n",
              "      <td>695000.0</td>\n",
              "      <td>45000</td>\n",
              "      <td>Petrol</td>\n",
              "      <td>Thane</td>\n",
              "      <td>2016</td>\n",
              "    </tr>\n",
              "    <tr>\n",
              "      <th>4</th>\n",
              "      <td>Jeep</td>\n",
              "      <td>1200000.0</td>\n",
              "      <td>11193</td>\n",
              "      <td>Petrol</td>\n",
              "      <td>Kolkata</td>\n",
              "      <td>2019</td>\n",
              "    </tr>\n",
              "    <tr>\n",
              "      <th>...</th>\n",
              "      <td>...</td>\n",
              "      <td>...</td>\n",
              "      <td>...</td>\n",
              "      <td>...</td>\n",
              "      <td>...</td>\n",
              "      <td>...</td>\n",
              "    </tr>\n",
              "    <tr>\n",
              "      <th>2008</th>\n",
              "      <td>Ford</td>\n",
              "      <td>360000.0</td>\n",
              "      <td>42158</td>\n",
              "      <td>Diesel</td>\n",
              "      <td>Kolkata</td>\n",
              "      <td>2015</td>\n",
              "    </tr>\n",
              "    <tr>\n",
              "      <th>2009</th>\n",
              "      <td>MINI</td>\n",
              "      <td>2200000.0</td>\n",
              "      <td>68862</td>\n",
              "      <td>Diesel</td>\n",
              "      <td>Hyderabad</td>\n",
              "      <td>2013</td>\n",
              "    </tr>\n",
              "    <tr>\n",
              "      <th>2010</th>\n",
              "      <td>Hyundai</td>\n",
              "      <td>838000.0</td>\n",
              "      <td>37622</td>\n",
              "      <td>Petrol</td>\n",
              "      <td>Chennai</td>\n",
              "      <td>2018</td>\n",
              "    </tr>\n",
              "    <tr>\n",
              "      <th>2011</th>\n",
              "      <td>Maruti</td>\n",
              "      <td>675000.0</td>\n",
              "      <td>64726</td>\n",
              "      <td>Petrol</td>\n",
              "      <td>Mumbai</td>\n",
              "      <td>2017</td>\n",
              "    </tr>\n",
              "    <tr>\n",
              "      <th>2012</th>\n",
              "      <td>Hyundai</td>\n",
              "      <td>876000.0</td>\n",
              "      <td>29150</td>\n",
              "      <td>Petrol</td>\n",
              "      <td>Pune</td>\n",
              "      <td>2017</td>\n",
              "    </tr>\n",
              "  </tbody>\n",
              "</table>\n",
              "<p>2013 rows × 6 columns</p>\n",
              "</div>\n",
              "    <div class=\"colab-df-buttons\">\n",
              "\n",
              "  <div class=\"colab-df-container\">\n",
              "    <button class=\"colab-df-convert\" onclick=\"convertToInteractive('df-c52e4ff4-6e42-4934-a563-eada5261f821')\"\n",
              "            title=\"Convert this dataframe to an interactive table.\"\n",
              "            style=\"display:none;\">\n",
              "\n",
              "  <svg xmlns=\"http://www.w3.org/2000/svg\" height=\"24px\" viewBox=\"0 -960 960 960\">\n",
              "    <path d=\"M120-120v-720h720v720H120Zm60-500h600v-160H180v160Zm220 220h160v-160H400v160Zm0 220h160v-160H400v160ZM180-400h160v-160H180v160Zm440 0h160v-160H620v160ZM180-180h160v-160H180v160Zm440 0h160v-160H620v160Z\"/>\n",
              "  </svg>\n",
              "    </button>\n",
              "\n",
              "  <style>\n",
              "    .colab-df-container {\n",
              "      display:flex;\n",
              "      gap: 12px;\n",
              "    }\n",
              "\n",
              "    .colab-df-convert {\n",
              "      background-color: #E8F0FE;\n",
              "      border: none;\n",
              "      border-radius: 50%;\n",
              "      cursor: pointer;\n",
              "      display: none;\n",
              "      fill: #1967D2;\n",
              "      height: 32px;\n",
              "      padding: 0 0 0 0;\n",
              "      width: 32px;\n",
              "    }\n",
              "\n",
              "    .colab-df-convert:hover {\n",
              "      background-color: #E2EBFA;\n",
              "      box-shadow: 0px 1px 2px rgba(60, 64, 67, 0.3), 0px 1px 3px 1px rgba(60, 64, 67, 0.15);\n",
              "      fill: #174EA6;\n",
              "    }\n",
              "\n",
              "    .colab-df-buttons div {\n",
              "      margin-bottom: 4px;\n",
              "    }\n",
              "\n",
              "    [theme=dark] .colab-df-convert {\n",
              "      background-color: #3B4455;\n",
              "      fill: #D2E3FC;\n",
              "    }\n",
              "\n",
              "    [theme=dark] .colab-df-convert:hover {\n",
              "      background-color: #434B5C;\n",
              "      box-shadow: 0px 1px 3px 1px rgba(0, 0, 0, 0.15);\n",
              "      filter: drop-shadow(0px 1px 2px rgba(0, 0, 0, 0.3));\n",
              "      fill: #FFFFFF;\n",
              "    }\n",
              "  </style>\n",
              "\n",
              "    <script>\n",
              "      const buttonEl =\n",
              "        document.querySelector('#df-c52e4ff4-6e42-4934-a563-eada5261f821 button.colab-df-convert');\n",
              "      buttonEl.style.display =\n",
              "        google.colab.kernel.accessAllowed ? 'block' : 'none';\n",
              "\n",
              "      async function convertToInteractive(key) {\n",
              "        const element = document.querySelector('#df-c52e4ff4-6e42-4934-a563-eada5261f821');\n",
              "        const dataTable =\n",
              "          await google.colab.kernel.invokeFunction('convertToInteractive',\n",
              "                                                    [key], {});\n",
              "        if (!dataTable) return;\n",
              "\n",
              "        const docLinkHtml = 'Like what you see? Visit the ' +\n",
              "          '<a target=\"_blank\" href=https://colab.research.google.com/notebooks/data_table.ipynb>data table notebook</a>'\n",
              "          + ' to learn more about interactive tables.';\n",
              "        element.innerHTML = '';\n",
              "        dataTable['output_type'] = 'display_data';\n",
              "        await google.colab.output.renderOutput(dataTable, element);\n",
              "        const docLink = document.createElement('div');\n",
              "        docLink.innerHTML = docLinkHtml;\n",
              "        element.appendChild(docLink);\n",
              "      }\n",
              "    </script>\n",
              "  </div>\n",
              "\n",
              "\n",
              "<div id=\"df-2edc1b30-4105-4989-bfed-cfbffc1fa66c\">\n",
              "  <button class=\"colab-df-quickchart\" onclick=\"quickchart('df-2edc1b30-4105-4989-bfed-cfbffc1fa66c')\"\n",
              "            title=\"Suggest charts\"\n",
              "            style=\"display:none;\">\n",
              "\n",
              "<svg xmlns=\"http://www.w3.org/2000/svg\" height=\"24px\"viewBox=\"0 0 24 24\"\n",
              "     width=\"24px\">\n",
              "    <g>\n",
              "        <path d=\"M19 3H5c-1.1 0-2 .9-2 2v14c0 1.1.9 2 2 2h14c1.1 0 2-.9 2-2V5c0-1.1-.9-2-2-2zM9 17H7v-7h2v7zm4 0h-2V7h2v10zm4 0h-2v-4h2v4z\"/>\n",
              "    </g>\n",
              "</svg>\n",
              "  </button>\n",
              "\n",
              "<style>\n",
              "  .colab-df-quickchart {\n",
              "      --bg-color: #E8F0FE;\n",
              "      --fill-color: #1967D2;\n",
              "      --hover-bg-color: #E2EBFA;\n",
              "      --hover-fill-color: #174EA6;\n",
              "      --disabled-fill-color: #AAA;\n",
              "      --disabled-bg-color: #DDD;\n",
              "  }\n",
              "\n",
              "  [theme=dark] .colab-df-quickchart {\n",
              "      --bg-color: #3B4455;\n",
              "      --fill-color: #D2E3FC;\n",
              "      --hover-bg-color: #434B5C;\n",
              "      --hover-fill-color: #FFFFFF;\n",
              "      --disabled-bg-color: #3B4455;\n",
              "      --disabled-fill-color: #666;\n",
              "  }\n",
              "\n",
              "  .colab-df-quickchart {\n",
              "    background-color: var(--bg-color);\n",
              "    border: none;\n",
              "    border-radius: 50%;\n",
              "    cursor: pointer;\n",
              "    display: none;\n",
              "    fill: var(--fill-color);\n",
              "    height: 32px;\n",
              "    padding: 0;\n",
              "    width: 32px;\n",
              "  }\n",
              "\n",
              "  .colab-df-quickchart:hover {\n",
              "    background-color: var(--hover-bg-color);\n",
              "    box-shadow: 0 1px 2px rgba(60, 64, 67, 0.3), 0 1px 3px 1px rgba(60, 64, 67, 0.15);\n",
              "    fill: var(--button-hover-fill-color);\n",
              "  }\n",
              "\n",
              "  .colab-df-quickchart-complete:disabled,\n",
              "  .colab-df-quickchart-complete:disabled:hover {\n",
              "    background-color: var(--disabled-bg-color);\n",
              "    fill: var(--disabled-fill-color);\n",
              "    box-shadow: none;\n",
              "  }\n",
              "\n",
              "  .colab-df-spinner {\n",
              "    border: 2px solid var(--fill-color);\n",
              "    border-color: transparent;\n",
              "    border-bottom-color: var(--fill-color);\n",
              "    animation:\n",
              "      spin 1s steps(1) infinite;\n",
              "  }\n",
              "\n",
              "  @keyframes spin {\n",
              "    0% {\n",
              "      border-color: transparent;\n",
              "      border-bottom-color: var(--fill-color);\n",
              "      border-left-color: var(--fill-color);\n",
              "    }\n",
              "    20% {\n",
              "      border-color: transparent;\n",
              "      border-left-color: var(--fill-color);\n",
              "      border-top-color: var(--fill-color);\n",
              "    }\n",
              "    30% {\n",
              "      border-color: transparent;\n",
              "      border-left-color: var(--fill-color);\n",
              "      border-top-color: var(--fill-color);\n",
              "      border-right-color: var(--fill-color);\n",
              "    }\n",
              "    40% {\n",
              "      border-color: transparent;\n",
              "      border-right-color: var(--fill-color);\n",
              "      border-top-color: var(--fill-color);\n",
              "    }\n",
              "    60% {\n",
              "      border-color: transparent;\n",
              "      border-right-color: var(--fill-color);\n",
              "    }\n",
              "    80% {\n",
              "      border-color: transparent;\n",
              "      border-right-color: var(--fill-color);\n",
              "      border-bottom-color: var(--fill-color);\n",
              "    }\n",
              "    90% {\n",
              "      border-color: transparent;\n",
              "      border-bottom-color: var(--fill-color);\n",
              "    }\n",
              "  }\n",
              "</style>\n",
              "\n",
              "  <script>\n",
              "    async function quickchart(key) {\n",
              "      const quickchartButtonEl =\n",
              "        document.querySelector('#' + key + ' button');\n",
              "      quickchartButtonEl.disabled = true;  // To prevent multiple clicks.\n",
              "      quickchartButtonEl.classList.add('colab-df-spinner');\n",
              "      try {\n",
              "        const charts = await google.colab.kernel.invokeFunction(\n",
              "            'suggestCharts', [key], {});\n",
              "      } catch (error) {\n",
              "        console.error('Error during call to suggestCharts:', error);\n",
              "      }\n",
              "      quickchartButtonEl.classList.remove('colab-df-spinner');\n",
              "      quickchartButtonEl.classList.add('colab-df-quickchart-complete');\n",
              "    }\n",
              "    (() => {\n",
              "      let quickchartButtonEl =\n",
              "        document.querySelector('#df-2edc1b30-4105-4989-bfed-cfbffc1fa66c button');\n",
              "      quickchartButtonEl.style.display =\n",
              "        google.colab.kernel.accessAllowed ? 'block' : 'none';\n",
              "    })();\n",
              "  </script>\n",
              "</div>\n",
              "\n",
              "  <div id=\"id_462a6d94-acee-4c86-8a4d-08d9806aa910\">\n",
              "    <style>\n",
              "      .colab-df-generate {\n",
              "        background-color: #E8F0FE;\n",
              "        border: none;\n",
              "        border-radius: 50%;\n",
              "        cursor: pointer;\n",
              "        display: none;\n",
              "        fill: #1967D2;\n",
              "        height: 32px;\n",
              "        padding: 0 0 0 0;\n",
              "        width: 32px;\n",
              "      }\n",
              "\n",
              "      .colab-df-generate:hover {\n",
              "        background-color: #E2EBFA;\n",
              "        box-shadow: 0px 1px 2px rgba(60, 64, 67, 0.3), 0px 1px 3px 1px rgba(60, 64, 67, 0.15);\n",
              "        fill: #174EA6;\n",
              "      }\n",
              "\n",
              "      [theme=dark] .colab-df-generate {\n",
              "        background-color: #3B4455;\n",
              "        fill: #D2E3FC;\n",
              "      }\n",
              "\n",
              "      [theme=dark] .colab-df-generate:hover {\n",
              "        background-color: #434B5C;\n",
              "        box-shadow: 0px 1px 3px 1px rgba(0, 0, 0, 0.15);\n",
              "        filter: drop-shadow(0px 1px 2px rgba(0, 0, 0, 0.3));\n",
              "        fill: #FFFFFF;\n",
              "      }\n",
              "    </style>\n",
              "    <button class=\"colab-df-generate\" onclick=\"generateWithVariable('car')\"\n",
              "            title=\"Generate code using this dataframe.\"\n",
              "            style=\"display:none;\">\n",
              "\n",
              "  <svg xmlns=\"http://www.w3.org/2000/svg\" height=\"24px\"viewBox=\"0 0 24 24\"\n",
              "       width=\"24px\">\n",
              "    <path d=\"M7,19H8.4L18.45,9,17,7.55,7,17.6ZM5,21V16.75L18.45,3.32a2,2,0,0,1,2.83,0l1.4,1.43a1.91,1.91,0,0,1,.58,1.4,1.91,1.91,0,0,1-.58,1.4L9.25,21ZM18.45,9,17,7.55Zm-12,3A5.31,5.31,0,0,0,4.9,8.1,5.31,5.31,0,0,0,1,6.5,5.31,5.31,0,0,0,4.9,4.9,5.31,5.31,0,0,0,6.5,1,5.31,5.31,0,0,0,8.1,4.9,5.31,5.31,0,0,0,12,6.5,5.46,5.46,0,0,0,6.5,12Z\"/>\n",
              "  </svg>\n",
              "    </button>\n",
              "    <script>\n",
              "      (() => {\n",
              "      const buttonEl =\n",
              "        document.querySelector('#id_462a6d94-acee-4c86-8a4d-08d9806aa910 button.colab-df-generate');\n",
              "      buttonEl.style.display =\n",
              "        google.colab.kernel.accessAllowed ? 'block' : 'none';\n",
              "\n",
              "      buttonEl.onclick = () => {\n",
              "        google.colab.notebook.generateWithVariable('car');\n",
              "      }\n",
              "      })();\n",
              "    </script>\n",
              "  </div>\n",
              "\n",
              "    </div>\n",
              "  </div>\n"
            ],
            "application/vnd.google.colaboratory.intrinsic+json": {
              "type": "dataframe",
              "variable_name": "car",
              "summary": "{\n  \"name\": \"car\",\n  \"rows\": 2013,\n  \"fields\": [\n    {\n      \"column\": \"car_name\",\n      \"properties\": {\n        \"dtype\": \"category\",\n        \"num_unique_values\": 28,\n        \"samples\": [\n          \"Porsche\",\n          \"Fiat\",\n          \"Ford\"\n        ],\n        \"semantic_type\": \"\",\n        \"description\": \"\"\n      }\n    },\n    {\n      \"column\": \"car_price_in_rupees\",\n      \"properties\": {\n        \"dtype\": \"number\",\n        \"std\": 259819451.74184424,\n        \"min\": 110000.00000000001,\n        \"max\": 9999100000.0,\n        \"num_unique_values\": 811,\n        \"samples\": [\n          5800000.0,\n          343000.0,\n          483000.0\n        ],\n        \"semantic_type\": \"\",\n        \"description\": \"\"\n      }\n    },\n    {\n      \"column\": \"kms_driven\",\n      \"properties\": {\n        \"dtype\": \"number\",\n        \"std\": 85427,\n        \"min\": 64,\n        \"max\": 3600000,\n        \"num_unique_values\": 1628,\n        \"samples\": [\n          32407,\n          52613,\n          34841\n        ],\n        \"semantic_type\": \"\",\n        \"description\": \"\"\n      }\n    },\n    {\n      \"column\": \"fuel_type\",\n      \"properties\": {\n        \"dtype\": \"category\",\n        \"num_unique_values\": 8,\n        \"samples\": [\n          \"Diesel\",\n          \"Petrol + 1\",\n          \"Petrol\"\n        ],\n        \"semantic_type\": \"\",\n        \"description\": \"\"\n      }\n    },\n    {\n      \"column\": \"city\",\n      \"properties\": {\n        \"dtype\": \"category\",\n        \"num_unique_values\": 16,\n        \"samples\": [\n          \"Mumbai\",\n          \"Kolkata\",\n          \"Ahmedabad\"\n        ],\n        \"semantic_type\": \"\",\n        \"description\": \"\"\n      }\n    },\n    {\n      \"column\": \"year_of_manufacture\",\n      \"properties\": {\n        \"dtype\": \"number\",\n        \"std\": 2,\n        \"min\": 2004,\n        \"max\": 2022,\n        \"num_unique_values\": 19,\n        \"samples\": [\n          2016,\n          2018,\n          2009\n        ],\n        \"semantic_type\": \"\",\n        \"description\": \"\"\n      }\n    }\n  ]\n}"
            }
          },
          "metadata": {},
          "execution_count": 1293
        }
      ],
      "source": [
        "car"
      ]
    },
    {
      "cell_type": "code",
      "execution_count": 1294,
      "metadata": {
        "colab": {
          "base_uri": "https://localhost:8080/"
        },
        "id": "5AsccX58FqBD",
        "outputId": "6548699f-2dc7-4f0d-8457-d501c5321e1c"
      },
      "outputs": [
        {
          "output_type": "stream",
          "name": "stdout",
          "text": [
            "<class 'pandas.core.frame.DataFrame'>\n",
            "RangeIndex: 2013 entries, 0 to 2012\n",
            "Data columns (total 6 columns):\n",
            " #   Column               Non-Null Count  Dtype  \n",
            "---  ------               --------------  -----  \n",
            " 0   car_name             2013 non-null   object \n",
            " 1   car_price_in_rupees  2013 non-null   float64\n",
            " 2   kms_driven           2013 non-null   int64  \n",
            " 3   fuel_type            2013 non-null   object \n",
            " 4   city                 2013 non-null   object \n",
            " 5   year_of_manufacture  2013 non-null   int64  \n",
            "dtypes: float64(1), int64(2), object(3)\n",
            "memory usage: 94.5+ KB\n"
          ]
        }
      ],
      "source": [
        "car.info()"
      ]
    },
    {
      "cell_type": "code",
      "execution_count": 1295,
      "metadata": {
        "colab": {
          "base_uri": "https://localhost:8080/",
          "height": 300
        },
        "id": "4FHn5lZnFqBE",
        "outputId": "5e5b9ecc-ed93-4ff7-b5ae-a449a0954f92"
      },
      "outputs": [
        {
          "output_type": "execute_result",
          "data": {
            "text/plain": [
              "       car_price_in_rupees    kms_driven  year_of_manufacture\n",
              "count         2.013000e+03  2.013000e+03          2013.000000\n",
              "mean          9.051722e+06  4.843062e+04          2017.023845\n",
              "std           2.598195e+08  8.542756e+04             2.823402\n",
              "min           1.100000e+05  6.400000e+01          2004.000000\n",
              "25%           4.750000e+05  2.500000e+04          2015.000000\n",
              "50%           6.990000e+05  4.282500e+04          2017.000000\n",
              "75%           1.150000e+06  6.300000e+04          2019.000000\n",
              "max           9.999100e+09  3.600000e+06          2022.000000"
            ],
            "text/html": [
              "\n",
              "  <div id=\"df-3ea60085-b6fa-48c7-879f-a4019b82ac58\" class=\"colab-df-container\">\n",
              "    <div>\n",
              "<style scoped>\n",
              "    .dataframe tbody tr th:only-of-type {\n",
              "        vertical-align: middle;\n",
              "    }\n",
              "\n",
              "    .dataframe tbody tr th {\n",
              "        vertical-align: top;\n",
              "    }\n",
              "\n",
              "    .dataframe thead th {\n",
              "        text-align: right;\n",
              "    }\n",
              "</style>\n",
              "<table border=\"1\" class=\"dataframe\">\n",
              "  <thead>\n",
              "    <tr style=\"text-align: right;\">\n",
              "      <th></th>\n",
              "      <th>car_price_in_rupees</th>\n",
              "      <th>kms_driven</th>\n",
              "      <th>year_of_manufacture</th>\n",
              "    </tr>\n",
              "  </thead>\n",
              "  <tbody>\n",
              "    <tr>\n",
              "      <th>count</th>\n",
              "      <td>2.013000e+03</td>\n",
              "      <td>2.013000e+03</td>\n",
              "      <td>2013.000000</td>\n",
              "    </tr>\n",
              "    <tr>\n",
              "      <th>mean</th>\n",
              "      <td>9.051722e+06</td>\n",
              "      <td>4.843062e+04</td>\n",
              "      <td>2017.023845</td>\n",
              "    </tr>\n",
              "    <tr>\n",
              "      <th>std</th>\n",
              "      <td>2.598195e+08</td>\n",
              "      <td>8.542756e+04</td>\n",
              "      <td>2.823402</td>\n",
              "    </tr>\n",
              "    <tr>\n",
              "      <th>min</th>\n",
              "      <td>1.100000e+05</td>\n",
              "      <td>6.400000e+01</td>\n",
              "      <td>2004.000000</td>\n",
              "    </tr>\n",
              "    <tr>\n",
              "      <th>25%</th>\n",
              "      <td>4.750000e+05</td>\n",
              "      <td>2.500000e+04</td>\n",
              "      <td>2015.000000</td>\n",
              "    </tr>\n",
              "    <tr>\n",
              "      <th>50%</th>\n",
              "      <td>6.990000e+05</td>\n",
              "      <td>4.282500e+04</td>\n",
              "      <td>2017.000000</td>\n",
              "    </tr>\n",
              "    <tr>\n",
              "      <th>75%</th>\n",
              "      <td>1.150000e+06</td>\n",
              "      <td>6.300000e+04</td>\n",
              "      <td>2019.000000</td>\n",
              "    </tr>\n",
              "    <tr>\n",
              "      <th>max</th>\n",
              "      <td>9.999100e+09</td>\n",
              "      <td>3.600000e+06</td>\n",
              "      <td>2022.000000</td>\n",
              "    </tr>\n",
              "  </tbody>\n",
              "</table>\n",
              "</div>\n",
              "    <div class=\"colab-df-buttons\">\n",
              "\n",
              "  <div class=\"colab-df-container\">\n",
              "    <button class=\"colab-df-convert\" onclick=\"convertToInteractive('df-3ea60085-b6fa-48c7-879f-a4019b82ac58')\"\n",
              "            title=\"Convert this dataframe to an interactive table.\"\n",
              "            style=\"display:none;\">\n",
              "\n",
              "  <svg xmlns=\"http://www.w3.org/2000/svg\" height=\"24px\" viewBox=\"0 -960 960 960\">\n",
              "    <path d=\"M120-120v-720h720v720H120Zm60-500h600v-160H180v160Zm220 220h160v-160H400v160Zm0 220h160v-160H400v160ZM180-400h160v-160H180v160Zm440 0h160v-160H620v160ZM180-180h160v-160H180v160Zm440 0h160v-160H620v160Z\"/>\n",
              "  </svg>\n",
              "    </button>\n",
              "\n",
              "  <style>\n",
              "    .colab-df-container {\n",
              "      display:flex;\n",
              "      gap: 12px;\n",
              "    }\n",
              "\n",
              "    .colab-df-convert {\n",
              "      background-color: #E8F0FE;\n",
              "      border: none;\n",
              "      border-radius: 50%;\n",
              "      cursor: pointer;\n",
              "      display: none;\n",
              "      fill: #1967D2;\n",
              "      height: 32px;\n",
              "      padding: 0 0 0 0;\n",
              "      width: 32px;\n",
              "    }\n",
              "\n",
              "    .colab-df-convert:hover {\n",
              "      background-color: #E2EBFA;\n",
              "      box-shadow: 0px 1px 2px rgba(60, 64, 67, 0.3), 0px 1px 3px 1px rgba(60, 64, 67, 0.15);\n",
              "      fill: #174EA6;\n",
              "    }\n",
              "\n",
              "    .colab-df-buttons div {\n",
              "      margin-bottom: 4px;\n",
              "    }\n",
              "\n",
              "    [theme=dark] .colab-df-convert {\n",
              "      background-color: #3B4455;\n",
              "      fill: #D2E3FC;\n",
              "    }\n",
              "\n",
              "    [theme=dark] .colab-df-convert:hover {\n",
              "      background-color: #434B5C;\n",
              "      box-shadow: 0px 1px 3px 1px rgba(0, 0, 0, 0.15);\n",
              "      filter: drop-shadow(0px 1px 2px rgba(0, 0, 0, 0.3));\n",
              "      fill: #FFFFFF;\n",
              "    }\n",
              "  </style>\n",
              "\n",
              "    <script>\n",
              "      const buttonEl =\n",
              "        document.querySelector('#df-3ea60085-b6fa-48c7-879f-a4019b82ac58 button.colab-df-convert');\n",
              "      buttonEl.style.display =\n",
              "        google.colab.kernel.accessAllowed ? 'block' : 'none';\n",
              "\n",
              "      async function convertToInteractive(key) {\n",
              "        const element = document.querySelector('#df-3ea60085-b6fa-48c7-879f-a4019b82ac58');\n",
              "        const dataTable =\n",
              "          await google.colab.kernel.invokeFunction('convertToInteractive',\n",
              "                                                    [key], {});\n",
              "        if (!dataTable) return;\n",
              "\n",
              "        const docLinkHtml = 'Like what you see? Visit the ' +\n",
              "          '<a target=\"_blank\" href=https://colab.research.google.com/notebooks/data_table.ipynb>data table notebook</a>'\n",
              "          + ' to learn more about interactive tables.';\n",
              "        element.innerHTML = '';\n",
              "        dataTable['output_type'] = 'display_data';\n",
              "        await google.colab.output.renderOutput(dataTable, element);\n",
              "        const docLink = document.createElement('div');\n",
              "        docLink.innerHTML = docLinkHtml;\n",
              "        element.appendChild(docLink);\n",
              "      }\n",
              "    </script>\n",
              "  </div>\n",
              "\n",
              "\n",
              "<div id=\"df-1a913d8c-28c3-494d-bbea-1d2245260bb5\">\n",
              "  <button class=\"colab-df-quickchart\" onclick=\"quickchart('df-1a913d8c-28c3-494d-bbea-1d2245260bb5')\"\n",
              "            title=\"Suggest charts\"\n",
              "            style=\"display:none;\">\n",
              "\n",
              "<svg xmlns=\"http://www.w3.org/2000/svg\" height=\"24px\"viewBox=\"0 0 24 24\"\n",
              "     width=\"24px\">\n",
              "    <g>\n",
              "        <path d=\"M19 3H5c-1.1 0-2 .9-2 2v14c0 1.1.9 2 2 2h14c1.1 0 2-.9 2-2V5c0-1.1-.9-2-2-2zM9 17H7v-7h2v7zm4 0h-2V7h2v10zm4 0h-2v-4h2v4z\"/>\n",
              "    </g>\n",
              "</svg>\n",
              "  </button>\n",
              "\n",
              "<style>\n",
              "  .colab-df-quickchart {\n",
              "      --bg-color: #E8F0FE;\n",
              "      --fill-color: #1967D2;\n",
              "      --hover-bg-color: #E2EBFA;\n",
              "      --hover-fill-color: #174EA6;\n",
              "      --disabled-fill-color: #AAA;\n",
              "      --disabled-bg-color: #DDD;\n",
              "  }\n",
              "\n",
              "  [theme=dark] .colab-df-quickchart {\n",
              "      --bg-color: #3B4455;\n",
              "      --fill-color: #D2E3FC;\n",
              "      --hover-bg-color: #434B5C;\n",
              "      --hover-fill-color: #FFFFFF;\n",
              "      --disabled-bg-color: #3B4455;\n",
              "      --disabled-fill-color: #666;\n",
              "  }\n",
              "\n",
              "  .colab-df-quickchart {\n",
              "    background-color: var(--bg-color);\n",
              "    border: none;\n",
              "    border-radius: 50%;\n",
              "    cursor: pointer;\n",
              "    display: none;\n",
              "    fill: var(--fill-color);\n",
              "    height: 32px;\n",
              "    padding: 0;\n",
              "    width: 32px;\n",
              "  }\n",
              "\n",
              "  .colab-df-quickchart:hover {\n",
              "    background-color: var(--hover-bg-color);\n",
              "    box-shadow: 0 1px 2px rgba(60, 64, 67, 0.3), 0 1px 3px 1px rgba(60, 64, 67, 0.15);\n",
              "    fill: var(--button-hover-fill-color);\n",
              "  }\n",
              "\n",
              "  .colab-df-quickchart-complete:disabled,\n",
              "  .colab-df-quickchart-complete:disabled:hover {\n",
              "    background-color: var(--disabled-bg-color);\n",
              "    fill: var(--disabled-fill-color);\n",
              "    box-shadow: none;\n",
              "  }\n",
              "\n",
              "  .colab-df-spinner {\n",
              "    border: 2px solid var(--fill-color);\n",
              "    border-color: transparent;\n",
              "    border-bottom-color: var(--fill-color);\n",
              "    animation:\n",
              "      spin 1s steps(1) infinite;\n",
              "  }\n",
              "\n",
              "  @keyframes spin {\n",
              "    0% {\n",
              "      border-color: transparent;\n",
              "      border-bottom-color: var(--fill-color);\n",
              "      border-left-color: var(--fill-color);\n",
              "    }\n",
              "    20% {\n",
              "      border-color: transparent;\n",
              "      border-left-color: var(--fill-color);\n",
              "      border-top-color: var(--fill-color);\n",
              "    }\n",
              "    30% {\n",
              "      border-color: transparent;\n",
              "      border-left-color: var(--fill-color);\n",
              "      border-top-color: var(--fill-color);\n",
              "      border-right-color: var(--fill-color);\n",
              "    }\n",
              "    40% {\n",
              "      border-color: transparent;\n",
              "      border-right-color: var(--fill-color);\n",
              "      border-top-color: var(--fill-color);\n",
              "    }\n",
              "    60% {\n",
              "      border-color: transparent;\n",
              "      border-right-color: var(--fill-color);\n",
              "    }\n",
              "    80% {\n",
              "      border-color: transparent;\n",
              "      border-right-color: var(--fill-color);\n",
              "      border-bottom-color: var(--fill-color);\n",
              "    }\n",
              "    90% {\n",
              "      border-color: transparent;\n",
              "      border-bottom-color: var(--fill-color);\n",
              "    }\n",
              "  }\n",
              "</style>\n",
              "\n",
              "  <script>\n",
              "    async function quickchart(key) {\n",
              "      const quickchartButtonEl =\n",
              "        document.querySelector('#' + key + ' button');\n",
              "      quickchartButtonEl.disabled = true;  // To prevent multiple clicks.\n",
              "      quickchartButtonEl.classList.add('colab-df-spinner');\n",
              "      try {\n",
              "        const charts = await google.colab.kernel.invokeFunction(\n",
              "            'suggestCharts', [key], {});\n",
              "      } catch (error) {\n",
              "        console.error('Error during call to suggestCharts:', error);\n",
              "      }\n",
              "      quickchartButtonEl.classList.remove('colab-df-spinner');\n",
              "      quickchartButtonEl.classList.add('colab-df-quickchart-complete');\n",
              "    }\n",
              "    (() => {\n",
              "      let quickchartButtonEl =\n",
              "        document.querySelector('#df-1a913d8c-28c3-494d-bbea-1d2245260bb5 button');\n",
              "      quickchartButtonEl.style.display =\n",
              "        google.colab.kernel.accessAllowed ? 'block' : 'none';\n",
              "    })();\n",
              "  </script>\n",
              "</div>\n",
              "\n",
              "    </div>\n",
              "  </div>\n"
            ],
            "application/vnd.google.colaboratory.intrinsic+json": {
              "type": "dataframe",
              "summary": "{\n  \"name\": \"car\",\n  \"rows\": 8,\n  \"fields\": [\n    {\n      \"column\": \"car_price_in_rupees\",\n      \"properties\": {\n        \"dtype\": \"number\",\n        \"std\": 3522670110.8231745,\n        \"min\": 2013.0,\n        \"max\": 9999100000.0,\n        \"num_unique_values\": 8,\n        \"samples\": [\n          9051721.808246398,\n          699000.0,\n          2013.0\n        ],\n        \"semantic_type\": \"\",\n        \"description\": \"\"\n      }\n    },\n    {\n      \"column\": \"kms_driven\",\n      \"properties\": {\n        \"dtype\": \"number\",\n        \"std\": 1259653.9287394192,\n        \"min\": 64.0,\n        \"max\": 3600000.0,\n        \"num_unique_values\": 8,\n        \"samples\": [\n          48430.62146050671,\n          42825.0,\n          2013.0\n        ],\n        \"semantic_type\": \"\",\n        \"description\": \"\"\n      }\n    },\n    {\n      \"column\": \"year_of_manufacture\",\n      \"properties\": {\n        \"dtype\": \"number\",\n        \"std\": 711.5339060932959,\n        \"min\": 2.823401872039288,\n        \"max\": 2022.0,\n        \"num_unique_values\": 8,\n        \"samples\": [\n          2017.0238450074517,\n          2017.0,\n          2013.0\n        ],\n        \"semantic_type\": \"\",\n        \"description\": \"\"\n      }\n    }\n  ]\n}"
            }
          },
          "metadata": {},
          "execution_count": 1295
        }
      ],
      "source": [
        "car.describe()"
      ]
    },
    {
      "cell_type": "code",
      "source": [
        "car.describe(include='all')"
      ],
      "metadata": {
        "colab": {
          "base_uri": "https://localhost:8080/",
          "height": 394
        },
        "id": "axdnZZ16LEnG",
        "outputId": "5e680ea1-88d6-4038-8570-ee96183e421c"
      },
      "execution_count": 1296,
      "outputs": [
        {
          "output_type": "execute_result",
          "data": {
            "text/plain": [
              "       car_name  car_price_in_rupees    kms_driven fuel_type       city  \\\n",
              "count      2013         2.013000e+03  2.013000e+03      2013       2013   \n",
              "unique       28                  NaN           NaN         8         16   \n",
              "top      Maruti                  NaN           NaN    Petrol  Bangalore   \n",
              "freq        539                  NaN           NaN      1283        240   \n",
              "mean        NaN         9.051722e+06  4.843062e+04       NaN        NaN   \n",
              "std         NaN         2.598195e+08  8.542756e+04       NaN        NaN   \n",
              "min         NaN         1.100000e+05  6.400000e+01       NaN        NaN   \n",
              "25%         NaN         4.750000e+05  2.500000e+04       NaN        NaN   \n",
              "50%         NaN         6.990000e+05  4.282500e+04       NaN        NaN   \n",
              "75%         NaN         1.150000e+06  6.300000e+04       NaN        NaN   \n",
              "max         NaN         9.999100e+09  3.600000e+06       NaN        NaN   \n",
              "\n",
              "        year_of_manufacture  \n",
              "count           2013.000000  \n",
              "unique                  NaN  \n",
              "top                     NaN  \n",
              "freq                    NaN  \n",
              "mean            2017.023845  \n",
              "std                2.823402  \n",
              "min             2004.000000  \n",
              "25%             2015.000000  \n",
              "50%             2017.000000  \n",
              "75%             2019.000000  \n",
              "max             2022.000000  "
            ],
            "text/html": [
              "\n",
              "  <div id=\"df-0461074f-e173-4633-8f7b-9ac8861db814\" class=\"colab-df-container\">\n",
              "    <div>\n",
              "<style scoped>\n",
              "    .dataframe tbody tr th:only-of-type {\n",
              "        vertical-align: middle;\n",
              "    }\n",
              "\n",
              "    .dataframe tbody tr th {\n",
              "        vertical-align: top;\n",
              "    }\n",
              "\n",
              "    .dataframe thead th {\n",
              "        text-align: right;\n",
              "    }\n",
              "</style>\n",
              "<table border=\"1\" class=\"dataframe\">\n",
              "  <thead>\n",
              "    <tr style=\"text-align: right;\">\n",
              "      <th></th>\n",
              "      <th>car_name</th>\n",
              "      <th>car_price_in_rupees</th>\n",
              "      <th>kms_driven</th>\n",
              "      <th>fuel_type</th>\n",
              "      <th>city</th>\n",
              "      <th>year_of_manufacture</th>\n",
              "    </tr>\n",
              "  </thead>\n",
              "  <tbody>\n",
              "    <tr>\n",
              "      <th>count</th>\n",
              "      <td>2013</td>\n",
              "      <td>2.013000e+03</td>\n",
              "      <td>2.013000e+03</td>\n",
              "      <td>2013</td>\n",
              "      <td>2013</td>\n",
              "      <td>2013.000000</td>\n",
              "    </tr>\n",
              "    <tr>\n",
              "      <th>unique</th>\n",
              "      <td>28</td>\n",
              "      <td>NaN</td>\n",
              "      <td>NaN</td>\n",
              "      <td>8</td>\n",
              "      <td>16</td>\n",
              "      <td>NaN</td>\n",
              "    </tr>\n",
              "    <tr>\n",
              "      <th>top</th>\n",
              "      <td>Maruti</td>\n",
              "      <td>NaN</td>\n",
              "      <td>NaN</td>\n",
              "      <td>Petrol</td>\n",
              "      <td>Bangalore</td>\n",
              "      <td>NaN</td>\n",
              "    </tr>\n",
              "    <tr>\n",
              "      <th>freq</th>\n",
              "      <td>539</td>\n",
              "      <td>NaN</td>\n",
              "      <td>NaN</td>\n",
              "      <td>1283</td>\n",
              "      <td>240</td>\n",
              "      <td>NaN</td>\n",
              "    </tr>\n",
              "    <tr>\n",
              "      <th>mean</th>\n",
              "      <td>NaN</td>\n",
              "      <td>9.051722e+06</td>\n",
              "      <td>4.843062e+04</td>\n",
              "      <td>NaN</td>\n",
              "      <td>NaN</td>\n",
              "      <td>2017.023845</td>\n",
              "    </tr>\n",
              "    <tr>\n",
              "      <th>std</th>\n",
              "      <td>NaN</td>\n",
              "      <td>2.598195e+08</td>\n",
              "      <td>8.542756e+04</td>\n",
              "      <td>NaN</td>\n",
              "      <td>NaN</td>\n",
              "      <td>2.823402</td>\n",
              "    </tr>\n",
              "    <tr>\n",
              "      <th>min</th>\n",
              "      <td>NaN</td>\n",
              "      <td>1.100000e+05</td>\n",
              "      <td>6.400000e+01</td>\n",
              "      <td>NaN</td>\n",
              "      <td>NaN</td>\n",
              "      <td>2004.000000</td>\n",
              "    </tr>\n",
              "    <tr>\n",
              "      <th>25%</th>\n",
              "      <td>NaN</td>\n",
              "      <td>4.750000e+05</td>\n",
              "      <td>2.500000e+04</td>\n",
              "      <td>NaN</td>\n",
              "      <td>NaN</td>\n",
              "      <td>2015.000000</td>\n",
              "    </tr>\n",
              "    <tr>\n",
              "      <th>50%</th>\n",
              "      <td>NaN</td>\n",
              "      <td>6.990000e+05</td>\n",
              "      <td>4.282500e+04</td>\n",
              "      <td>NaN</td>\n",
              "      <td>NaN</td>\n",
              "      <td>2017.000000</td>\n",
              "    </tr>\n",
              "    <tr>\n",
              "      <th>75%</th>\n",
              "      <td>NaN</td>\n",
              "      <td>1.150000e+06</td>\n",
              "      <td>6.300000e+04</td>\n",
              "      <td>NaN</td>\n",
              "      <td>NaN</td>\n",
              "      <td>2019.000000</td>\n",
              "    </tr>\n",
              "    <tr>\n",
              "      <th>max</th>\n",
              "      <td>NaN</td>\n",
              "      <td>9.999100e+09</td>\n",
              "      <td>3.600000e+06</td>\n",
              "      <td>NaN</td>\n",
              "      <td>NaN</td>\n",
              "      <td>2022.000000</td>\n",
              "    </tr>\n",
              "  </tbody>\n",
              "</table>\n",
              "</div>\n",
              "    <div class=\"colab-df-buttons\">\n",
              "\n",
              "  <div class=\"colab-df-container\">\n",
              "    <button class=\"colab-df-convert\" onclick=\"convertToInteractive('df-0461074f-e173-4633-8f7b-9ac8861db814')\"\n",
              "            title=\"Convert this dataframe to an interactive table.\"\n",
              "            style=\"display:none;\">\n",
              "\n",
              "  <svg xmlns=\"http://www.w3.org/2000/svg\" height=\"24px\" viewBox=\"0 -960 960 960\">\n",
              "    <path d=\"M120-120v-720h720v720H120Zm60-500h600v-160H180v160Zm220 220h160v-160H400v160Zm0 220h160v-160H400v160ZM180-400h160v-160H180v160Zm440 0h160v-160H620v160ZM180-180h160v-160H180v160Zm440 0h160v-160H620v160Z\"/>\n",
              "  </svg>\n",
              "    </button>\n",
              "\n",
              "  <style>\n",
              "    .colab-df-container {\n",
              "      display:flex;\n",
              "      gap: 12px;\n",
              "    }\n",
              "\n",
              "    .colab-df-convert {\n",
              "      background-color: #E8F0FE;\n",
              "      border: none;\n",
              "      border-radius: 50%;\n",
              "      cursor: pointer;\n",
              "      display: none;\n",
              "      fill: #1967D2;\n",
              "      height: 32px;\n",
              "      padding: 0 0 0 0;\n",
              "      width: 32px;\n",
              "    }\n",
              "\n",
              "    .colab-df-convert:hover {\n",
              "      background-color: #E2EBFA;\n",
              "      box-shadow: 0px 1px 2px rgba(60, 64, 67, 0.3), 0px 1px 3px 1px rgba(60, 64, 67, 0.15);\n",
              "      fill: #174EA6;\n",
              "    }\n",
              "\n",
              "    .colab-df-buttons div {\n",
              "      margin-bottom: 4px;\n",
              "    }\n",
              "\n",
              "    [theme=dark] .colab-df-convert {\n",
              "      background-color: #3B4455;\n",
              "      fill: #D2E3FC;\n",
              "    }\n",
              "\n",
              "    [theme=dark] .colab-df-convert:hover {\n",
              "      background-color: #434B5C;\n",
              "      box-shadow: 0px 1px 3px 1px rgba(0, 0, 0, 0.15);\n",
              "      filter: drop-shadow(0px 1px 2px rgba(0, 0, 0, 0.3));\n",
              "      fill: #FFFFFF;\n",
              "    }\n",
              "  </style>\n",
              "\n",
              "    <script>\n",
              "      const buttonEl =\n",
              "        document.querySelector('#df-0461074f-e173-4633-8f7b-9ac8861db814 button.colab-df-convert');\n",
              "      buttonEl.style.display =\n",
              "        google.colab.kernel.accessAllowed ? 'block' : 'none';\n",
              "\n",
              "      async function convertToInteractive(key) {\n",
              "        const element = document.querySelector('#df-0461074f-e173-4633-8f7b-9ac8861db814');\n",
              "        const dataTable =\n",
              "          await google.colab.kernel.invokeFunction('convertToInteractive',\n",
              "                                                    [key], {});\n",
              "        if (!dataTable) return;\n",
              "\n",
              "        const docLinkHtml = 'Like what you see? Visit the ' +\n",
              "          '<a target=\"_blank\" href=https://colab.research.google.com/notebooks/data_table.ipynb>data table notebook</a>'\n",
              "          + ' to learn more about interactive tables.';\n",
              "        element.innerHTML = '';\n",
              "        dataTable['output_type'] = 'display_data';\n",
              "        await google.colab.output.renderOutput(dataTable, element);\n",
              "        const docLink = document.createElement('div');\n",
              "        docLink.innerHTML = docLinkHtml;\n",
              "        element.appendChild(docLink);\n",
              "      }\n",
              "    </script>\n",
              "  </div>\n",
              "\n",
              "\n",
              "<div id=\"df-c8fdd464-77e6-4200-89bf-a1726e443112\">\n",
              "  <button class=\"colab-df-quickchart\" onclick=\"quickchart('df-c8fdd464-77e6-4200-89bf-a1726e443112')\"\n",
              "            title=\"Suggest charts\"\n",
              "            style=\"display:none;\">\n",
              "\n",
              "<svg xmlns=\"http://www.w3.org/2000/svg\" height=\"24px\"viewBox=\"0 0 24 24\"\n",
              "     width=\"24px\">\n",
              "    <g>\n",
              "        <path d=\"M19 3H5c-1.1 0-2 .9-2 2v14c0 1.1.9 2 2 2h14c1.1 0 2-.9 2-2V5c0-1.1-.9-2-2-2zM9 17H7v-7h2v7zm4 0h-2V7h2v10zm4 0h-2v-4h2v4z\"/>\n",
              "    </g>\n",
              "</svg>\n",
              "  </button>\n",
              "\n",
              "<style>\n",
              "  .colab-df-quickchart {\n",
              "      --bg-color: #E8F0FE;\n",
              "      --fill-color: #1967D2;\n",
              "      --hover-bg-color: #E2EBFA;\n",
              "      --hover-fill-color: #174EA6;\n",
              "      --disabled-fill-color: #AAA;\n",
              "      --disabled-bg-color: #DDD;\n",
              "  }\n",
              "\n",
              "  [theme=dark] .colab-df-quickchart {\n",
              "      --bg-color: #3B4455;\n",
              "      --fill-color: #D2E3FC;\n",
              "      --hover-bg-color: #434B5C;\n",
              "      --hover-fill-color: #FFFFFF;\n",
              "      --disabled-bg-color: #3B4455;\n",
              "      --disabled-fill-color: #666;\n",
              "  }\n",
              "\n",
              "  .colab-df-quickchart {\n",
              "    background-color: var(--bg-color);\n",
              "    border: none;\n",
              "    border-radius: 50%;\n",
              "    cursor: pointer;\n",
              "    display: none;\n",
              "    fill: var(--fill-color);\n",
              "    height: 32px;\n",
              "    padding: 0;\n",
              "    width: 32px;\n",
              "  }\n",
              "\n",
              "  .colab-df-quickchart:hover {\n",
              "    background-color: var(--hover-bg-color);\n",
              "    box-shadow: 0 1px 2px rgba(60, 64, 67, 0.3), 0 1px 3px 1px rgba(60, 64, 67, 0.15);\n",
              "    fill: var(--button-hover-fill-color);\n",
              "  }\n",
              "\n",
              "  .colab-df-quickchart-complete:disabled,\n",
              "  .colab-df-quickchart-complete:disabled:hover {\n",
              "    background-color: var(--disabled-bg-color);\n",
              "    fill: var(--disabled-fill-color);\n",
              "    box-shadow: none;\n",
              "  }\n",
              "\n",
              "  .colab-df-spinner {\n",
              "    border: 2px solid var(--fill-color);\n",
              "    border-color: transparent;\n",
              "    border-bottom-color: var(--fill-color);\n",
              "    animation:\n",
              "      spin 1s steps(1) infinite;\n",
              "  }\n",
              "\n",
              "  @keyframes spin {\n",
              "    0% {\n",
              "      border-color: transparent;\n",
              "      border-bottom-color: var(--fill-color);\n",
              "      border-left-color: var(--fill-color);\n",
              "    }\n",
              "    20% {\n",
              "      border-color: transparent;\n",
              "      border-left-color: var(--fill-color);\n",
              "      border-top-color: var(--fill-color);\n",
              "    }\n",
              "    30% {\n",
              "      border-color: transparent;\n",
              "      border-left-color: var(--fill-color);\n",
              "      border-top-color: var(--fill-color);\n",
              "      border-right-color: var(--fill-color);\n",
              "    }\n",
              "    40% {\n",
              "      border-color: transparent;\n",
              "      border-right-color: var(--fill-color);\n",
              "      border-top-color: var(--fill-color);\n",
              "    }\n",
              "    60% {\n",
              "      border-color: transparent;\n",
              "      border-right-color: var(--fill-color);\n",
              "    }\n",
              "    80% {\n",
              "      border-color: transparent;\n",
              "      border-right-color: var(--fill-color);\n",
              "      border-bottom-color: var(--fill-color);\n",
              "    }\n",
              "    90% {\n",
              "      border-color: transparent;\n",
              "      border-bottom-color: var(--fill-color);\n",
              "    }\n",
              "  }\n",
              "</style>\n",
              "\n",
              "  <script>\n",
              "    async function quickchart(key) {\n",
              "      const quickchartButtonEl =\n",
              "        document.querySelector('#' + key + ' button');\n",
              "      quickchartButtonEl.disabled = true;  // To prevent multiple clicks.\n",
              "      quickchartButtonEl.classList.add('colab-df-spinner');\n",
              "      try {\n",
              "        const charts = await google.colab.kernel.invokeFunction(\n",
              "            'suggestCharts', [key], {});\n",
              "      } catch (error) {\n",
              "        console.error('Error during call to suggestCharts:', error);\n",
              "      }\n",
              "      quickchartButtonEl.classList.remove('colab-df-spinner');\n",
              "      quickchartButtonEl.classList.add('colab-df-quickchart-complete');\n",
              "    }\n",
              "    (() => {\n",
              "      let quickchartButtonEl =\n",
              "        document.querySelector('#df-c8fdd464-77e6-4200-89bf-a1726e443112 button');\n",
              "      quickchartButtonEl.style.display =\n",
              "        google.colab.kernel.accessAllowed ? 'block' : 'none';\n",
              "    })();\n",
              "  </script>\n",
              "</div>\n",
              "\n",
              "    </div>\n",
              "  </div>\n"
            ],
            "application/vnd.google.colaboratory.intrinsic+json": {
              "type": "dataframe",
              "summary": "{\n  \"name\": \"car\",\n  \"rows\": 11,\n  \"fields\": [\n    {\n      \"column\": \"car_name\",\n      \"properties\": {\n        \"dtype\": \"category\",\n        \"num_unique_values\": 4,\n        \"samples\": [\n          28,\n          \"539\",\n          \"2013\"\n        ],\n        \"semantic_type\": \"\",\n        \"description\": \"\"\n      }\n    },\n    {\n      \"column\": \"car_price_in_rupees\",\n      \"properties\": {\n        \"dtype\": \"number\",\n        \"std\": 3522670110.8231745,\n        \"min\": 2013.0,\n        \"max\": 9999100000.0,\n        \"num_unique_values\": 8,\n        \"samples\": [\n          9051721.808246398,\n          699000.0,\n          2013.0\n        ],\n        \"semantic_type\": \"\",\n        \"description\": \"\"\n      }\n    },\n    {\n      \"column\": \"kms_driven\",\n      \"properties\": {\n        \"dtype\": \"number\",\n        \"std\": 1259653.9287394192,\n        \"min\": 64.0,\n        \"max\": 3600000.0,\n        \"num_unique_values\": 8,\n        \"samples\": [\n          48430.62146050671,\n          42825.0,\n          2013.0\n        ],\n        \"semantic_type\": \"\",\n        \"description\": \"\"\n      }\n    },\n    {\n      \"column\": \"fuel_type\",\n      \"properties\": {\n        \"dtype\": \"category\",\n        \"num_unique_values\": 4,\n        \"samples\": [\n          8,\n          \"1283\",\n          \"2013\"\n        ],\n        \"semantic_type\": \"\",\n        \"description\": \"\"\n      }\n    },\n    {\n      \"column\": \"city\",\n      \"properties\": {\n        \"dtype\": \"category\",\n        \"num_unique_values\": 4,\n        \"samples\": [\n          16,\n          \"240\",\n          \"2013\"\n        ],\n        \"semantic_type\": \"\",\n        \"description\": \"\"\n      }\n    },\n    {\n      \"column\": \"year_of_manufacture\",\n      \"properties\": {\n        \"dtype\": \"number\",\n        \"std\": 711.5339060932957,\n        \"min\": 2.823401872039288,\n        \"max\": 2022.0,\n        \"num_unique_values\": 8,\n        \"samples\": [\n          2017.0238450074517,\n          2017.0,\n          2013.0\n        ],\n        \"semantic_type\": \"\",\n        \"description\": \"\"\n      }\n    }\n  ]\n}"
            }
          },
          "metadata": {},
          "execution_count": 1296
        }
      ]
    },
    {
      "cell_type": "code",
      "source": [
        "car.isnull().sum()"
      ],
      "metadata": {
        "colab": {
          "base_uri": "https://localhost:8080/"
        },
        "id": "2EE-ye7lNzAs",
        "outputId": "15c47563-9db0-4002-8875-fb136ccb80d9"
      },
      "execution_count": 1297,
      "outputs": [
        {
          "output_type": "execute_result",
          "data": {
            "text/plain": [
              "car_name               0\n",
              "car_price_in_rupees    0\n",
              "kms_driven             0\n",
              "fuel_type              0\n",
              "city                   0\n",
              "year_of_manufacture    0\n",
              "dtype: int64"
            ]
          },
          "metadata": {},
          "execution_count": 1297
        }
      ]
    },
    {
      "cell_type": "code",
      "source": [
        "car['car_price_in_rupees'].isnull().sum()"
      ],
      "metadata": {
        "colab": {
          "base_uri": "https://localhost:8080/"
        },
        "id": "BO7IC6DqPDff",
        "outputId": "3a6f5bc5-7846-4c33-adc0-2fded94cb81c"
      },
      "execution_count": 1298,
      "outputs": [
        {
          "output_type": "execute_result",
          "data": {
            "text/plain": [
              "0"
            ]
          },
          "metadata": {},
          "execution_count": 1298
        }
      ]
    },
    {
      "cell_type": "code",
      "source": [
        "car=car[car['car_price_in_rupees'] < 6000000]"
      ],
      "metadata": {
        "id": "vC7aVtU-LH-R"
      },
      "execution_count": 1299,
      "outputs": []
    },
    {
      "cell_type": "markdown",
      "source": [
        "### **Visualization**"
      ],
      "metadata": {
        "id": "AlNPsx0EdTjt"
      }
    },
    {
      "cell_type": "code",
      "source": [
        "plt.subplots(figsize=(20,10))\n",
        "ax=sns.swarmplot(x='year_of_manufacture',y='car_price_in_rupees',data=car)\n",
        "ax.set_xticklabels(ax.get_xticklabels(),rotation=40,ha='right')\n",
        "plt.show()"
      ],
      "metadata": {
        "colab": {
          "base_uri": "https://localhost:8080/",
          "height": 661
        },
        "id": "Nk7p9N-cOkMS",
        "outputId": "52b4a1cd-3446-483c-a264-ebd52ec6c8a8"
      },
      "execution_count": 1300,
      "outputs": [
        {
          "output_type": "display_data",
          "data": {
            "text/plain": [
              "<Figure size 2000x1000 with 1 Axes>"
            ],
            "image/png": "[encoded data removed]"
          },
          "metadata": {}
        }
      ]
    },
    {
      "cell_type": "code",
      "source": [
        "sns.relplot(x='kms_driven',y='car_price_in_rupees',data=car,height=7,aspect=1.5)"
      ],
      "metadata": {
        "colab": {
          "base_uri": "https://localhost:8080/",
          "height": 724
        },
        "id": "c7w3Px7WOkOb",
        "outputId": "a29c0a21-0300-4d9d-fe50-0d53a22f6751"
      },
      "execution_count": 1301,
      "outputs": [
        {
          "output_type": "execute_result",
          "data": {
            "text/plain": [
              "<seaborn.axisgrid.FacetGrid at 0x7cfaeeee6b00>"
            ]
          },
          "metadata": {},
          "execution_count": 1301
        },
        {
          "output_type": "display_data",
          "data": {
            "text/plain": [
              "<Figure size 1050x700 with 1 Axes>"
            ],
            "image/png": "[encoded data removed]"
          },
          "metadata": {}
        }
      ]
    },
    {
      "cell_type": "code",
      "source": [
        "plt.subplots(figsize=(14,7))\n",
        "sns.boxplot(x='fuel_type',y='car_price_in_rupees',data=car)"
      ],
      "metadata": {
        "colab": {
          "base_uri": "https://localhost:8080/",
          "height": 651
        },
        "id": "L2ZeoXJcOkQP",
        "outputId": "5dbb69e4-8229-4d46-85f5-c483ad178913"
      },
      "execution_count": 1302,
      "outputs": [
        {
          "output_type": "execute_result",
          "data": {
            "text/plain": [
              "<Axes: xlabel='fuel_type', ylabel='car_price_in_rupees'>"
            ]
          },
          "metadata": {},
          "execution_count": 1302
        },
        {
          "output_type": "display_data",
          "data": {
            "text/plain": [
              "<Figure size 1400x700 with 1 Axes>"
            ],
            "image/png": "[encoded data removed]"
          },
          "metadata": {}
        }
      ]
    },
    {
      "cell_type": "code",
      "source": [
        "car.info()"
      ],
      "metadata": {
        "colab": {
          "base_uri": "https://localhost:8080/"
        },
        "id": "tHFrECzfHZfc",
        "outputId": "839b08ee-7f41-4cd5-8a04-6113e57ad273"
      },
      "execution_count": 1303,
      "outputs": [
        {
          "output_type": "stream",
          "name": "stdout",
          "text": [
            "<class 'pandas.core.frame.DataFrame'>\n",
            "Int64Index: 1981 entries, 0 to 2012\n",
            "Data columns (total 6 columns):\n",
            " #   Column               Non-Null Count  Dtype  \n",
            "---  ------               --------------  -----  \n",
            " 0   car_name             1981 non-null   object \n",
            " 1   car_price_in_rupees  1981 non-null   float64\n",
            " 2   kms_driven           1981 non-null   int64  \n",
            " 3   fuel_type            1981 non-null   object \n",
            " 4   city                 1981 non-null   object \n",
            " 5   year_of_manufacture  1981 non-null   int64  \n",
            "dtypes: float64(1), int64(2), object(3)\n",
            "memory usage: 172.9+ KB\n"
          ]
        }
      ]
    },
    {
      "cell_type": "markdown",
      "source": [
        "### Splitting the data set"
      ],
      "metadata": {
        "id": "QIFwN0R2dY5J"
      }
    },
    {
      "cell_type": "code",
      "source": [
        "x=car[['car_name','year_of_manufacture','kms_driven', 'city','fuel_type']]\n",
        "y=car['car_price_in_rupees']"
      ],
      "metadata": {
        "id": "D6FSd8JJHRtk"
      },
      "execution_count": 1304,
      "outputs": []
    },
    {
      "cell_type": "code",
      "source": [
        "x"
      ],
      "metadata": {
        "colab": {
          "base_uri": "https://localhost:8080/",
          "height": 424
        },
        "id": "rr9OalknHRwA",
        "outputId": "f12090af-2d75-49a8-a602-10aeefe9794b"
      },
      "execution_count": 1305,
      "outputs": [
        {
          "output_type": "execute_result",
          "data": {
            "text/plain": [
              "     car_name  year_of_manufacture  kms_driven       city fuel_type\n",
              "0     Hyundai                 2016       22402     Mumbai    Petrol\n",
              "1      Maruti                 2019       10344    Kolkata    Petrol\n",
              "2        Tata                 2021       12999  Bangalore    Diesel\n",
              "3      Maruti                 2016       45000      Thane    Petrol\n",
              "4        Jeep                 2019       11193    Kolkata    Petrol\n",
              "...       ...                  ...         ...        ...       ...\n",
              "2008     Ford                 2015       42158    Kolkata    Diesel\n",
              "2009     MINI                 2013       68862  Hyderabad    Diesel\n",
              "2010  Hyundai                 2018       37622    Chennai    Petrol\n",
              "2011   Maruti                 2017       64726     Mumbai    Petrol\n",
              "2012  Hyundai                 2017       29150       Pune    Petrol\n",
              "\n",
              "[1981 rows x 5 columns]"
            ],
            "text/html": [
              "\n",
              "  <div id=\"df-c5a20eb5-a6bd-48fb-be87-5aadf74d1ba8\" class=\"colab-df-container\">\n",
              "    <div>\n",
              "<style scoped>\n",
              "    .dataframe tbody tr th:only-of-type {\n",
              "        vertical-align: middle;\n",
              "    }\n",
              "\n",
              "    .dataframe tbody tr th {\n",
              "        vertical-align: top;\n",
              "    }\n",
              "\n",
              "    .dataframe thead th {\n",
              "        text-align: right;\n",
              "    }\n",
              "</style>\n",
              "<table border=\"1\" class=\"dataframe\">\n",
              "  <thead>\n",
              "    <tr style=\"text-align: right;\">\n",
              "      <th></th>\n",
              "      <th>car_name</th>\n",
              "      <th>year_of_manufacture</th>\n",
              "      <th>kms_driven</th>\n",
              "      <th>city</th>\n",
              "      <th>fuel_type</th>\n",
              "    </tr>\n",
              "  </thead>\n",
              "  <tbody>\n",
              "    <tr>\n",
              "      <th>0</th>\n",
              "      <td>Hyundai</td>\n",
              "      <td>2016</td>\n",
              "      <td>22402</td>\n",
              "      <td>Mumbai</td>\n",
              "      <td>Petrol</td>\n",
              "    </tr>\n",
              "    <tr>\n",
              "      <th>1</th>\n",
              "      <td>Maruti</td>\n",
              "      <td>2019</td>\n",
              "      <td>10344</td>\n",
              "      <td>Kolkata</td>\n",
              "      <td>Petrol</td>\n",
              "    </tr>\n",
              "    <tr>\n",
              "      <th>2</th>\n",
              "      <td>Tata</td>\n",
              "      <td>2021</td>\n",
              "      <td>12999</td>\n",
              "      <td>Bangalore</td>\n",
              "      <td>Diesel</td>\n",
              "    </tr>\n",
              "    <tr>\n",
              "      <th>3</th>\n",
              "      <td>Maruti</td>\n",
              "      <td>2016</td>\n",
              "      <td>45000</td>\n",
              "      <td>Thane</td>\n",
              "      <td>Petrol</td>\n",
              "    </tr>\n",
              "    <tr>\n",
              "      <th>4</th>\n",
              "      <td>Jeep</td>\n",
              "      <td>2019</td>\n",
              "      <td>11193</td>\n",
              "      <td>Kolkata</td>\n",
              "      <td>Petrol</td>\n",
              "    </tr>\n",
              "    <tr>\n",
              "      <th>...</th>\n",
              "      <td>...</td>\n",
              "      <td>...</td>\n",
              "      <td>...</td>\n",
              "      <td>...</td>\n",
              "      <td>...</td>\n",
              "    </tr>\n",
              "    <tr>\n",
              "      <th>2008</th>\n",
              "      <td>Ford</td>\n",
              "      <td>2015</td>\n",
              "      <td>42158</td>\n",
              "      <td>Kolkata</td>\n",
              "      <td>Diesel</td>\n",
              "    </tr>\n",
              "    <tr>\n",
              "      <th>2009</th>\n",
              "      <td>MINI</td>\n",
              "      <td>2013</td>\n",
              "      <td>68862</td>\n",
              "      <td>Hyderabad</td>\n",
              "      <td>Diesel</td>\n",
              "    </tr>\n",
              "    <tr>\n",
              "      <th>2010</th>\n",
              "      <td>Hyundai</td>\n",
              "      <td>2018</td>\n",
              "      <td>37622</td>\n",
              "      <td>Chennai</td>\n",
              "      <td>Petrol</td>\n",
              "    </tr>\n",
              "    <tr>\n",
              "      <th>2011</th>\n",
              "      <td>Maruti</td>\n",
              "      <td>2017</td>\n",
              "      <td>64726</td>\n",
              "      <td>Mumbai</td>\n",
              "      <td>Petrol</td>\n",
              "    </tr>\n",
              "    <tr>\n",
              "      <th>2012</th>\n",
              "      <td>Hyundai</td>\n",
              "      <td>2017</td>\n",
              "      <td>29150</td>\n",
              "      <td>Pune</td>\n",
              "      <td>Petrol</td>\n",
              "    </tr>\n",
              "  </tbody>\n",
              "</table>\n",
              "<p>1981 rows × 5 columns</p>\n",
              "</div>\n",
              "    <div class=\"colab-df-buttons\">\n",
              "\n",
              "  <div class=\"colab-df-container\">\n",
              "    <button class=\"colab-df-convert\" onclick=\"convertToInteractive('df-c5a20eb5-a6bd-48fb-be87-5aadf74d1ba8')\"\n",
              "            title=\"Convert this dataframe to an interactive table.\"\n",
              "            style=\"display:none;\">\n",
              "\n",
              "  <svg xmlns=\"http://www.w3.org/2000/svg\" height=\"24px\" viewBox=\"0 -960 960 960\">\n",
              "    <path d=\"M120-120v-720h720v720H120Zm60-500h600v-160H180v160Zm220 220h160v-160H400v160Zm0 220h160v-160H400v160ZM180-400h160v-160H180v160Zm440 0h160v-160H620v160ZM180-180h160v-160H180v160Zm440 0h160v-160H620v160Z\"/>\n",
              "  </svg>\n",
              "    </button>\n",
              "\n",
              "  <style>\n",
              "    .colab-df-container {\n",
              "      display:flex;\n",
              "      gap: 12px;\n",
              "    }\n",
              "\n",
              "    .colab-df-convert {\n",
              "      background-color: #E8F0FE;\n",
              "      border: none;\n",
              "      border-radius: 50%;\n",
              "      cursor: pointer;\n",
              "      display: none;\n",
              "      fill: #1967D2;\n",
              "      height: 32px;\n",
              "      padding: 0 0 0 0;\n",
              "      width: 32px;\n",
              "    }\n",
              "\n",
              "    .colab-df-convert:hover {\n",
              "      background-color: #E2EBFA;\n",
              "      box-shadow: 0px 1px 2px rgba(60, 64, 67, 0.3), 0px 1px 3px 1px rgba(60, 64, 67, 0.15);\n",
              "      fill: #174EA6;\n",
              "    }\n",
              "\n",
              "    .colab-df-buttons div {\n",
              "      margin-bottom: 4px;\n",
              "    }\n",
              "\n",
              "    [theme=dark] .colab-df-convert {\n",
              "      background-color: #3B4455;\n",
              "      fill: #D2E3FC;\n",
              "    }\n",
              "\n",
              "    [theme=dark] .colab-df-convert:hover {\n",
              "      background-color: #434B5C;\n",
              "      box-shadow: 0px 1px 3px 1px rgba(0, 0, 0, 0.15);\n",
              "      filter: drop-shadow(0px 1px 2px rgba(0, 0, 0, 0.3));\n",
              "      fill: #FFFFFF;\n",
              "    }\n",
              "  </style>\n",
              "\n",
              "    <script>\n",
              "      const buttonEl =\n",
              "        document.querySelector('#df-c5a20eb5-a6bd-48fb-be87-5aadf74d1ba8 button.colab-df-convert');\n",
              "      buttonEl.style.display =\n",
              "        google.colab.kernel.accessAllowed ? 'block' : 'none';\n",
              "\n",
              "      async function convertToInteractive(key) {\n",
              "        const element = document.querySelector('#df-c5a20eb5-a6bd-48fb-be87-5aadf74d1ba8');\n",
              "        const dataTable =\n",
              "          await google.colab.kernel.invokeFunction('convertToInteractive',\n",
              "                                                    [key], {});\n",
              "        if (!dataTable) return;\n",
              "\n",
              "        const docLinkHtml = 'Like what you see? Visit the ' +\n",
              "          '<a target=\"_blank\" href=https://colab.research.google.com/notebooks/data_table.ipynb>data table notebook</a>'\n",
              "          + ' to learn more about interactive tables.';\n",
              "        element.innerHTML = '';\n",
              "        dataTable['output_type'] = 'display_data';\n",
              "        await google.colab.output.renderOutput(dataTable, element);\n",
              "        const docLink = document.createElement('div');\n",
              "        docLink.innerHTML = docLinkHtml;\n",
              "        element.appendChild(docLink);\n",
              "      }\n",
              "    </script>\n",
              "  </div>\n",
              "\n",
              "\n",
              "<div id=\"df-c23e39e5-b21d-4a0b-8722-0d46ffd4db19\">\n",
              "  <button class=\"colab-df-quickchart\" onclick=\"quickchart('df-c23e39e5-b21d-4a0b-8722-0d46ffd4db19')\"\n",
              "            title=\"Suggest charts\"\n",
              "            style=\"display:none;\">\n",
              "\n",
              "<svg xmlns=\"http://www.w3.org/2000/svg\" height=\"24px\"viewBox=\"0 0 24 24\"\n",
              "     width=\"24px\">\n",
              "    <g>\n",
              "        <path d=\"M19 3H5c-1.1 0-2 .9-2 2v14c0 1.1.9 2 2 2h14c1.1 0 2-.9 2-2V5c0-1.1-.9-2-2-2zM9 17H7v-7h2v7zm4 0h-2V7h2v10zm4 0h-2v-4h2v4z\"/>\n",
              "    </g>\n",
              "</svg>\n",
              "  </button>\n",
              "\n",
              "<style>\n",
              "  .colab-df-quickchart {\n",
              "      --bg-color: #E8F0FE;\n",
              "      --fill-color: #1967D2;\n",
              "      --hover-bg-color: #E2EBFA;\n",
              "      --hover-fill-color: #174EA6;\n",
              "      --disabled-fill-color: #AAA;\n",
              "      --disabled-bg-color: #DDD;\n",
              "  }\n",
              "\n",
              "  [theme=dark] .colab-df-quickchart {\n",
              "      --bg-color: #3B4455;\n",
              "      --fill-color: #D2E3FC;\n",
              "      --hover-bg-color: #434B5C;\n",
              "      --hover-fill-color: #FFFFFF;\n",
              "      --disabled-bg-color: #3B4455;\n",
              "      --disabled-fill-color: #666;\n",
              "  }\n",
              "\n",
              "  .colab-df-quickchart {\n",
              "    background-color: var(--bg-color);\n",
              "    border: none;\n",
              "    border-radius: 50%;\n",
              "    cursor: pointer;\n",
              "    display: none;\n",
              "    fill: var(--fill-color);\n",
              "    height: 32px;\n",
              "    padding: 0;\n",
              "    width: 32px;\n",
              "  }\n",
              "\n",
              "  .colab-df-quickchart:hover {\n",
              "    background-color: var(--hover-bg-color);\n",
              "    box-shadow: 0 1px 2px rgba(60, 64, 67, 0.3), 0 1px 3px 1px rgba(60, 64, 67, 0.15);\n",
              "    fill: var(--button-hover-fill-color);\n",
              "  }\n",
              "\n",
              "  .colab-df-quickchart-complete:disabled,\n",
              "  .colab-df-quickchart-complete:disabled:hover {\n",
              "    background-color: var(--disabled-bg-color);\n",
              "    fill: var(--disabled-fill-color);\n",
              "    box-shadow: none;\n",
              "  }\n",
              "\n",
              "  .colab-df-spinner {\n",
              "    border: 2px solid var(--fill-color);\n",
              "    border-color: transparent;\n",
              "    border-bottom-color: var(--fill-color);\n",
              "    animation:\n",
              "      spin 1s steps(1) infinite;\n",
              "  }\n",
              "\n",
              "  @keyframes spin {\n",
              "    0% {\n",
              "      border-color: transparent;\n",
              "      border-bottom-color: var(--fill-color);\n",
              "      border-left-color: var(--fill-color);\n",
              "    }\n",
              "    20% {\n",
              "      border-color: transparent;\n",
              "      border-left-color: var(--fill-color);\n",
              "      border-top-color: var(--fill-color);\n",
              "    }\n",
              "    30% {\n",
              "      border-color: transparent;\n",
              "      border-left-color: var(--fill-color);\n",
              "      border-top-color: var(--fill-color);\n",
              "      border-right-color: var(--fill-color);\n",
              "    }\n",
              "    40% {\n",
              "      border-color: transparent;\n",
              "      border-right-color: var(--fill-color);\n",
              "      border-top-color: var(--fill-color);\n",
              "    }\n",
              "    60% {\n",
              "      border-color: transparent;\n",
              "      border-right-color: var(--fill-color);\n",
              "    }\n",
              "    80% {\n",
              "      border-color: transparent;\n",
              "      border-right-color: var(--fill-color);\n",
              "      border-bottom-color: var(--fill-color);\n",
              "    }\n",
              "    90% {\n",
              "      border-color: transparent;\n",
              "      border-bottom-color: var(--fill-color);\n",
              "    }\n",
              "  }\n",
              "</style>\n",
              "\n",
              "  <script>\n",
              "    async function quickchart(key) {\n",
              "      const quickchartButtonEl =\n",
              "        document.querySelector('#' + key + ' button');\n",
              "      quickchartButtonEl.disabled = true;  // To prevent multiple clicks.\n",
              "      quickchartButtonEl.classList.add('colab-df-spinner');\n",
              "      try {\n",
              "        const charts = await google.colab.kernel.invokeFunction(\n",
              "            'suggestCharts', [key], {});\n",
              "      } catch (error) {\n",
              "        console.error('Error during call to suggestCharts:', error);\n",
              "      }\n",
              "      quickchartButtonEl.classList.remove('colab-df-spinner');\n",
              "      quickchartButtonEl.classList.add('colab-df-quickchart-complete');\n",
              "    }\n",
              "    (() => {\n",
              "      let quickchartButtonEl =\n",
              "        document.querySelector('#df-c23e39e5-b21d-4a0b-8722-0d46ffd4db19 button');\n",
              "      quickchartButtonEl.style.display =\n",
              "        google.colab.kernel.accessAllowed ? 'block' : 'none';\n",
              "    })();\n",
              "  </script>\n",
              "</div>\n",
              "\n",
              "  <div id=\"id_f6157ec7-b888-4d10-8a62-75450ce36b5a\">\n",
              "    <style>\n",
              "      .colab-df-generate {\n",
              "        background-color: #E8F0FE;\n",
              "        border: none;\n",
              "        border-radius: 50%;\n",
              "        cursor: pointer;\n",
              "        display: none;\n",
              "        fill: #1967D2;\n",
              "        height: 32px;\n",
              "        padding: 0 0 0 0;\n",
              "        width: 32px;\n",
              "      }\n",
              "\n",
              "      .colab-df-generate:hover {\n",
              "        background-color: #E2EBFA;\n",
              "        box-shadow: 0px 1px 2px rgba(60, 64, 67, 0.3), 0px 1px 3px 1px rgba(60, 64, 67, 0.15);\n",
              "        fill: #174EA6;\n",
              "      }\n",
              "\n",
              "      [theme=dark] .colab-df-generate {\n",
              "        background-color: #3B4455;\n",
              "        fill: #D2E3FC;\n",
              "      }\n",
              "\n",
              "      [theme=dark] .colab-df-generate:hover {\n",
              "        background-color: #434B5C;\n",
              "        box-shadow: 0px 1px 3px 1px rgba(0, 0, 0, 0.15);\n",
              "        filter: drop-shadow(0px 1px 2px rgba(0, 0, 0, 0.3));\n",
              "        fill: #FFFFFF;\n",
              "      }\n",
              "    </style>\n",
              "    <button class=\"colab-df-generate\" onclick=\"generateWithVariable('x')\"\n",
              "            title=\"Generate code using this dataframe.\"\n",
              "            style=\"display:none;\">\n",
              "\n",
              "  <svg xmlns=\"http://www.w3.org/2000/svg\" height=\"24px\"viewBox=\"0 0 24 24\"\n",
              "       width=\"24px\">\n",
              "    <path d=\"M7,19H8.4L18.45,9,17,7.55,7,17.6ZM5,21V16.75L18.45,3.32a2,2,0,0,1,2.83,0l1.4,1.43a1.91,1.91,0,0,1,.58,1.4,1.91,1.91,0,0,1-.58,1.4L9.25,21ZM18.45,9,17,7.55Zm-12,3A5.31,5.31,0,0,0,4.9,8.1,5.31,5.31,0,0,0,1,6.5,5.31,5.31,0,0,0,4.9,4.9,5.31,5.31,0,0,0,6.5,1,5.31,5.31,0,0,0,8.1,4.9,5.31,5.31,0,0,0,12,6.5,5.46,5.46,0,0,0,6.5,12Z\"/>\n",
              "  </svg>\n",
              "    </button>\n",
              "    <script>\n",
              "      (() => {\n",
              "      const buttonEl =\n",
              "        document.querySelector('#id_f6157ec7-b888-4d10-8a62-75450ce36b5a button.colab-df-generate');\n",
              "      buttonEl.style.display =\n",
              "        google.colab.kernel.accessAllowed ? 'block' : 'none';\n",
              "\n",
              "      buttonEl.onclick = () => {\n",
              "        google.colab.notebook.generateWithVariable('x');\n",
              "      }\n",
              "      })();\n",
              "    </script>\n",
              "  </div>\n",
              "\n",
              "    </div>\n",
              "  </div>\n"
            ],
            "application/vnd.google.colaboratory.intrinsic+json": {
              "type": "dataframe",
              "variable_name": "x",
              "summary": "{\n  \"name\": \"x\",\n  \"rows\": 1981,\n  \"fields\": [\n    {\n      \"column\": \"car_name\",\n      \"properties\": {\n        \"dtype\": \"category\",\n        \"num_unique_values\": 27,\n        \"samples\": [\n          \"Porsche\",\n          \"MG\",\n          \"Kia\"\n        ],\n        \"semantic_type\": \"\",\n        \"description\": \"\"\n      }\n    },\n    {\n      \"column\": \"year_of_manufacture\",\n      \"properties\": {\n        \"dtype\": \"number\",\n        \"std\": 2,\n        \"min\": 2004,\n        \"max\": 2022,\n        \"num_unique_values\": 19,\n        \"samples\": [\n          2016,\n          2018,\n          2009\n        ],\n        \"semantic_type\": \"\",\n        \"description\": \"\"\n      }\n    },\n    {\n      \"column\": \"kms_driven\",\n      \"properties\": {\n        \"dtype\": \"number\",\n        \"std\": 85991,\n        \"min\": 64,\n        \"max\": 3600000,\n        \"num_unique_values\": 1610,\n        \"samples\": [\n          100000,\n          87139,\n          32434\n        ],\n        \"semantic_type\": \"\",\n        \"description\": \"\"\n      }\n    },\n    {\n      \"column\": \"city\",\n      \"properties\": {\n        \"dtype\": \"category\",\n        \"num_unique_values\": 16,\n        \"samples\": [\n          \"Mumbai\",\n          \"Kolkata\",\n          \"Ahmedabad\"\n        ],\n        \"semantic_type\": \"\",\n        \"description\": \"\"\n      }\n    },\n    {\n      \"column\": \"fuel_type\",\n      \"properties\": {\n        \"dtype\": \"category\",\n        \"num_unique_values\": 8,\n        \"samples\": [\n          \"Diesel\",\n          \"Electric\",\n          \"Petrol\"\n        ],\n        \"semantic_type\": \"\",\n        \"description\": \"\"\n      }\n    }\n  ]\n}"
            }
          },
          "metadata": {},
          "execution_count": 1305
        }
      ]
    },
    {
      "cell_type": "code",
      "source": [
        "y"
      ],
      "metadata": {
        "colab": {
          "base_uri": "https://localhost:8080/"
        },
        "id": "hAYuRjBKHRyl",
        "outputId": "a27b5b8b-e9ba-4a80-eda4-71b691a88f40"
      },
      "execution_count": 1306,
      "outputs": [
        {
          "output_type": "execute_result",
          "data": {
            "text/plain": [
              "0        445000.0\n",
              "1        293000.0\n",
              "2       2249000.0\n",
              "3        695000.0\n",
              "4       1200000.0\n",
              "          ...    \n",
              "2008     360000.0\n",
              "2009    2200000.0\n",
              "2010     838000.0\n",
              "2011     675000.0\n",
              "2012     876000.0\n",
              "Name: car_price_in_rupees, Length: 1981, dtype: float64"
            ]
          },
          "metadata": {},
          "execution_count": 1306
        }
      ]
    },
    {
      "cell_type": "markdown",
      "source": [
        "### **Model building**"
      ],
      "metadata": {
        "id": "kCNjwHfydc_P"
      }
    },
    {
      "cell_type": "code",
      "source": [
        "from sklearn.model_selection import train_test_split\n",
        "x_train,x_test,y_train,y_test=train_test_split(x,y,test_size=0.2)"
      ],
      "metadata": {
        "id": "e0JJioG_HR1X"
      },
      "execution_count": 1307,
      "outputs": []
    },
    {
      "cell_type": "code",
      "source": [
        "from sklearn.linear_model import LinearRegression"
      ],
      "metadata": {
        "id": "F5_R1cbZHR4B"
      },
      "execution_count": 1308,
      "outputs": []
    },
    {
      "cell_type": "code",
      "source": [
        "from sklearn.preprocessing import OneHotEncoder\n",
        "from sklearn.compose import make_column_transformer\n",
        "from sklearn.pipeline import make_pipeline\n",
        "from sklearn.metrics import r2_score"
      ],
      "metadata": {
        "id": "X0GZZhDgHR6D"
      },
      "execution_count": 1309,
      "outputs": []
    },
    {
      "cell_type": "code",
      "source": [
        "ohe=OneHotEncoder()\n",
        "ohe.fit(x[['car_name','city','fuel_type']])"
      ],
      "metadata": {
        "colab": {
          "base_uri": "https://localhost:8080/",
          "height": 75
        },
        "id": "bPlpfy8GIcnU",
        "outputId": "b49aea62-da63-4070-8cd4-e36a941736f0"
      },
      "execution_count": 1310,
      "outputs": [
        {
          "output_type": "execute_result",
          "data": {
            "text/plain": [
              "OneHotEncoder()"
            ],
            "text/html": [
              "<style>#sk-container-id-41 {color: black;background-color: white;}#sk-container-id-41 pre{padding: 0;}#sk-container-id-41 div.sk-toggleable {background-color: white;}#sk-container-id-41 label.sk-toggleable__label {cursor: pointer;display: block;width: 100%;margin-bottom: 0;padding: 0.3em;box-sizing: border-box;text-align: center;}#sk-container-id-41 label.sk-toggleable__label-arrow:before {content: \"▸\";float: left;margin-right: 0.25em;color: #696969;}#sk-container-id-41 label.sk-toggleable__label-arrow:hover:before {color: black;}#sk-container-id-41 div.sk-estimator:hover label.sk-toggleable__label-arrow:before {color: black;}#sk-container-id-41 div.sk-toggleable__content {max-height: 0;max-width: 0;overflow: hidden;text-align: left;background-color: #f0f8ff;}#sk-container-id-41 div.sk-toggleable__content pre {margin: 0.2em;color: black;border-radius: 0.25em;background-color: #f0f8ff;}#sk-container-id-41 input.sk-toggleable__control:checked~div.sk-toggleable__content {max-height: 200px;max-width: 100%;overflow: auto;}#sk-container-id-41 input.sk-toggleable__control:checked~label.sk-toggleable__label-arrow:before {content: \"▾\";}#sk-container-id-41 div.sk-estimator input.sk-toggleable__control:checked~label.sk-toggleable__label {background-color: #d4ebff;}#sk-container-id-41 div.sk-label input.sk-toggleable__control:checked~label.sk-toggleable__label {background-color: #d4ebff;}#sk-container-id-41 input.sk-hidden--visually {border: 0;clip: rect(1px 1px 1px 1px);clip: rect(1px, 1px, 1px, 1px);height: 1px;margin: -1px;overflow: hidden;padding: 0;position: absolute;width: 1px;}#sk-container-id-41 div.sk-estimator {font-family: monospace;background-color: #f0f8ff;border: 1px dotted black;border-radius: 0.25em;box-sizing: border-box;margin-bottom: 0.5em;}#sk-container-id-41 div.sk-estimator:hover {background-color: #d4ebff;}#sk-container-id-41 div.sk-parallel-item::after {content: \"\";width: 100%;border-bottom: 1px solid gray;flex-grow: 1;}#sk-container-id-41 div.sk-label:hover label.sk-toggleable__label {background-color: #d4ebff;}#sk-container-id-41 div.sk-serial::before {content: \"\";position: absolute;border-left: 1px solid gray;box-sizing: border-box;top: 0;bottom: 0;left: 50%;z-index: 0;}#sk-container-id-41 div.sk-serial {display: flex;flex-direction: column;align-items: center;background-color: white;padding-right: 0.2em;padding-left: 0.2em;position: relative;}#sk-container-id-41 div.sk-item {position: relative;z-index: 1;}#sk-container-id-41 div.sk-parallel {display: flex;align-items: stretch;justify-content: center;background-color: white;position: relative;}#sk-container-id-41 div.sk-item::before, #sk-container-id-41 div.sk-parallel-item::before {content: \"\";position: absolute;border-left: 1px solid gray;box-sizing: border-box;top: 0;bottom: 0;left: 50%;z-index: -1;}#sk-container-id-41 div.sk-parallel-item {display: flex;flex-direction: column;z-index: 1;position: relative;background-color: white;}#sk-container-id-41 div.sk-parallel-item:first-child::after {align-self: flex-end;width: 50%;}#sk-container-id-41 div.sk-parallel-item:last-child::after {align-self: flex-start;width: 50%;}#sk-container-id-41 div.sk-parallel-item:only-child::after {width: 0;}#sk-container-id-41 div.sk-dashed-wrapped {border: 1px dashed gray;margin: 0 0.4em 0.5em 0.4em;box-sizing: border-box;padding-bottom: 0.4em;background-color: white;}#sk-container-id-41 div.sk-label label {font-family: monospace;font-weight: bold;display: inline-block;line-height: 1.2em;}#sk-container-id-41 div.sk-label-container {text-align: center;}#sk-container-id-41 div.sk-container {/* jupyter's `normalize.less` sets `[hidden] { display: none; }` but bootstrap.min.css set `[hidden] { display: none !important; }` so we also need the `!important` here to be able to override the default hidden behavior on the sphinx rendered scikit-learn.org. See: https://github.com/scikit-learn/scikit-learn/issues/21755 */display: inline-block !important;position: relative;}#sk-container-id-41 div.sk-text-repr-fallback {display: none;}</style><div id=\"sk-container-id-41\" class=\"sk-top-container\"><div class=\"sk-text-repr-fallback\"><pre>OneHotEncoder()</pre><b>In a Jupyter environment, please rerun this cell to show the HTML representation or trust the notebook. <br />On GitHub, the HTML representation is unable to render, please try loading this page with nbviewer.org.</b></div><div class=\"sk-container\" hidden><div class=\"sk-item\"><div class=\"sk-estimator sk-toggleable\"><input class=\"sk-toggleable__control sk-hidden--visually\" id=\"sk-estimator-id-131\" type=\"checkbox\" checked><label for=\"sk-estimator-id-131\" class=\"sk-toggleable__label sk-toggleable__label-arrow\">OneHotEncoder</label><div class=\"sk-toggleable__content\"><pre>OneHotEncoder()</pre></div></div></div></div></div>"
            ]
          },
          "metadata": {},
          "execution_count": 1310
        }
      ]
    },
    {
      "cell_type": "code",
      "source": [
        "column_trans=make_column_transformer((OneHotEncoder(categories=ohe.categories_),['car_name','city','fuel_type']),\n",
        "                                    remainder='passthrough')"
      ],
      "metadata": {
        "id": "cGbxPrBJHR8R"
      },
      "execution_count": 1311,
      "outputs": []
    },
    {
      "cell_type": "code",
      "source": [
        "lr=LinearRegression()"
      ],
      "metadata": {
        "id": "aNp-dAMFIrlR"
      },
      "execution_count": 1312,
      "outputs": []
    },
    {
      "cell_type": "code",
      "source": [
        "pipe=make_pipeline(column_trans,lr)"
      ],
      "metadata": {
        "id": "d-63g1RrHR-y"
      },
      "execution_count": 1313,
      "outputs": []
    },
    {
      "cell_type": "code",
      "source": [
        "pipe.fit(x_train,y_train)"
      ],
      "metadata": {
        "colab": {
          "base_uri": "https://localhost:8080/",
          "height": 192
        },
        "id": "Xz-Y4UfFHSBs",
        "outputId": "4bf80f1f-215b-4c41-f932-abda7e74edbd"
      },
      "execution_count": 1314,
      "outputs": [
        {
          "output_type": "execute_result",
          "data": {
            "text/plain": [
              "Pipeline(steps=[('columntransformer',\n",
              "                 ColumnTransformer(remainder='passthrough',\n",
              "                                   transformers=[('onehotencoder',\n",
              "                                                  OneHotEncoder(categories=[array(['Audi', 'BMW', 'Chevrolet', 'Citroen', 'Datsun', 'Fiat', 'Ford',\n",
              "       'Honda', 'Hyundai', 'Isuzu', 'Jaguar', 'Jeep', 'Kia', 'Land', 'MG',\n",
              "       'MINI', 'Mahindra', 'Maruti', 'Mercedes-Benz', 'Nissan', 'Porsche',\n",
              "       'Renault', 'Skoda', 'Tata', 'T...\n",
              "                                                                            array(['Ahmedabad', 'Ambattur', 'Bangalore', 'Chennai', 'Delhi',\n",
              "       'Faridabad', 'Gurgaon', 'Hyderabad', 'Kolkata', 'Mumbai', 'Noida',\n",
              "       'Pallikarnai', 'Poonamallee', 'Pune', 'Thane', 'Thiruvallur'],\n",
              "      dtype=object),\n",
              "                                                                            array(['CNG', 'Diesel', 'Diesel + 1', 'Electric', 'Hybrid', 'LPG',\n",
              "       'Petrol', 'Petrol + 1'], dtype=object)]),\n",
              "                                                  ['car_name', 'city',\n",
              "                                                   'fuel_type'])])),\n",
              "                ('linearregression', LinearRegression())])"
            ],
            "text/html": [
              "<style>#sk-container-id-42 {color: black;background-color: white;}#sk-container-id-42 pre{padding: 0;}#sk-container-id-42 div.sk-toggleable {background-color: white;}#sk-container-id-42 label.sk-toggleable__label {cursor: pointer;display: block;width: 100%;margin-bottom: 0;padding: 0.3em;box-sizing: border-box;text-align: center;}#sk-container-id-42 label.sk-toggleable__label-arrow:before {content: \"▸\";float: left;margin-right: 0.25em;color: #696969;}#sk-container-id-42 label.sk-toggleable__label-arrow:hover:before {color: black;}#sk-container-id-42 div.sk-estimator:hover label.sk-toggleable__label-arrow:before {color: black;}#sk-container-id-42 div.sk-toggleable__content {max-height: 0;max-width: 0;overflow: hidden;text-align: left;background-color: #f0f8ff;}#sk-container-id-42 div.sk-toggleable__content pre {margin: 0.2em;color: black;border-radius: 0.25em;background-color: #f0f8ff;}#sk-container-id-42 input.sk-toggleable__control:checked~div.sk-toggleable__content {max-height: 200px;max-width: 100%;overflow: auto;}#sk-container-id-42 input.sk-toggleable__control:checked~label.sk-toggleable__label-arrow:before {content: \"▾\";}#sk-container-id-42 div.sk-estimator input.sk-toggleable__control:checked~label.sk-toggleable__label {background-color: #d4ebff;}#sk-container-id-42 div.sk-label input.sk-toggleable__control:checked~label.sk-toggleable__label {background-color: #d4ebff;}#sk-container-id-42 input.sk-hidden--visually {border: 0;clip: rect(1px 1px 1px 1px);clip: rect(1px, 1px, 1px, 1px);height: 1px;margin: -1px;overflow: hidden;padding: 0;position: absolute;width: 1px;}#sk-container-id-42 div.sk-estimator {font-family: monospace;background-color: #f0f8ff;border: 1px dotted black;border-radius: 0.25em;box-sizing: border-box;margin-bottom: 0.5em;}#sk-container-id-42 div.sk-estimator:hover {background-color: #d4ebff;}#sk-container-id-42 div.sk-parallel-item::after {content: \"\";width: 100%;border-bottom: 1px solid gray;flex-grow: 1;}#sk-container-id-42 div.sk-label:hover label.sk-toggleable__label {background-color: #d4ebff;}#sk-container-id-42 div.sk-serial::before {content: \"\";position: absolute;border-left: 1px solid gray;box-sizing: border-box;top: 0;bottom: 0;left: 50%;z-index: 0;}#sk-container-id-42 div.sk-serial {display: flex;flex-direction: column;align-items: center;background-color: white;padding-right: 0.2em;padding-left: 0.2em;position: relative;}#sk-container-id-42 div.sk-item {position: relative;z-index: 1;}#sk-container-id-42 div.sk-parallel {display: flex;align-items: stretch;justify-content: center;background-color: white;position: relative;}#sk-container-id-42 div.sk-item::before, #sk-container-id-42 div.sk-parallel-item::before {content: \"\";position: absolute;border-left: 1px solid gray;box-sizing: border-box;top: 0;bottom: 0;left: 50%;z-index: -1;}#sk-container-id-42 div.sk-parallel-item {display: flex;flex-direction: column;z-index: 1;position: relative;background-color: white;}#sk-container-id-42 div.sk-parallel-item:first-child::after {align-self: flex-end;width: 50%;}#sk-container-id-42 div.sk-parallel-item:last-child::after {align-self: flex-start;width: 50%;}#sk-container-id-42 div.sk-parallel-item:only-child::after {width: 0;}#sk-container-id-42 div.sk-dashed-wrapped {border: 1px dashed gray;margin: 0 0.4em 0.5em 0.4em;box-sizing: border-box;padding-bottom: 0.4em;background-color: white;}#sk-container-id-42 div.sk-label label {font-family: monospace;font-weight: bold;display: inline-block;line-height: 1.2em;}#sk-container-id-42 div.sk-label-container {text-align: center;}#sk-container-id-42 div.sk-container {/* jupyter's `normalize.less` sets `[hidden] { display: none; }` but bootstrap.min.css set `[hidden] { display: none !important; }` so we also need the `!important` here to be able to override the default hidden behavior on the sphinx rendered scikit-learn.org. See: https://github.com/scikit-learn/scikit-learn/issues/21755 */display: inline-block !important;position: relative;}#sk-container-id-42 div.sk-text-repr-fallback {display: none;}</style><div id=\"sk-container-id-42\" class=\"sk-top-container\"><div class=\"sk-text-repr-fallback\"><pre>Pipeline(steps=[(&#x27;columntransformer&#x27;,\n",
              "                 ColumnTransformer(remainder=&#x27;passthrough&#x27;,\n",
              "                                   transformers=[(&#x27;onehotencoder&#x27;,\n",
              "                                                  OneHotEncoder(categories=[array([&#x27;Audi&#x27;, &#x27;BMW&#x27;, &#x27;Chevrolet&#x27;, &#x27;Citroen&#x27;, &#x27;Datsun&#x27;, &#x27;Fiat&#x27;, &#x27;Ford&#x27;,\n",
              "       &#x27;Honda&#x27;, &#x27;Hyundai&#x27;, &#x27;Isuzu&#x27;, &#x27;Jaguar&#x27;, &#x27;Jeep&#x27;, &#x27;Kia&#x27;, &#x27;Land&#x27;, &#x27;MG&#x27;,\n",
              "       &#x27;MINI&#x27;, &#x27;Mahindra&#x27;, &#x27;Maruti&#x27;, &#x27;Mercedes-Benz&#x27;, &#x27;Nissan&#x27;, &#x27;Porsche&#x27;,\n",
              "       &#x27;Renault&#x27;, &#x27;Skoda&#x27;, &#x27;Tata&#x27;, &#x27;T...\n",
              "                                                                            array([&#x27;Ahmedabad&#x27;, &#x27;Ambattur&#x27;, &#x27;Bangalore&#x27;, &#x27;Chennai&#x27;, &#x27;Delhi&#x27;,\n",
              "       &#x27;Faridabad&#x27;, &#x27;Gurgaon&#x27;, &#x27;Hyderabad&#x27;, &#x27;Kolkata&#x27;, &#x27;Mumbai&#x27;, &#x27;Noida&#x27;,\n",
              "       &#x27;Pallikarnai&#x27;, &#x27;Poonamallee&#x27;, &#x27;Pune&#x27;, &#x27;Thane&#x27;, &#x27;Thiruvallur&#x27;],\n",
              "      dtype=object),\n",
              "                                                                            array([&#x27;CNG&#x27;, &#x27;Diesel&#x27;, &#x27;Diesel + 1&#x27;, &#x27;Electric&#x27;, &#x27;Hybrid&#x27;, &#x27;LPG&#x27;,\n",
              "       &#x27;Petrol&#x27;, &#x27;Petrol + 1&#x27;], dtype=object)]),\n",
              "                                                  [&#x27;car_name&#x27;, &#x27;city&#x27;,\n",
              "                                                   &#x27;fuel_type&#x27;])])),\n",
              "                (&#x27;linearregression&#x27;, LinearRegression())])</pre><b>In a Jupyter environment, please rerun this cell to show the HTML representation or trust the notebook. <br />On GitHub, the HTML representation is unable to render, please try loading this page with nbviewer.org.</b></div><div class=\"sk-container\" hidden><div class=\"sk-item sk-dashed-wrapped\"><div class=\"sk-label-container\"><div class=\"sk-label sk-toggleable\"><input class=\"sk-toggleable__control sk-hidden--visually\" id=\"sk-estimator-id-132\" type=\"checkbox\" ><label for=\"sk-estimator-id-132\" class=\"sk-toggleable__label sk-toggleable__label-arrow\">Pipeline</label><div class=\"sk-toggleable__content\"><pre>Pipeline(steps=[(&#x27;columntransformer&#x27;,\n",
              "                 ColumnTransformer(remainder=&#x27;passthrough&#x27;,\n",
              "                                   transformers=[(&#x27;onehotencoder&#x27;,\n",
              "                                                  OneHotEncoder(categories=[array([&#x27;Audi&#x27;, &#x27;BMW&#x27;, &#x27;Chevrolet&#x27;, &#x27;Citroen&#x27;, &#x27;Datsun&#x27;, &#x27;Fiat&#x27;, &#x27;Ford&#x27;,\n",
              "       &#x27;Honda&#x27;, &#x27;Hyundai&#x27;, &#x27;Isuzu&#x27;, &#x27;Jaguar&#x27;, &#x27;Jeep&#x27;, &#x27;Kia&#x27;, &#x27;Land&#x27;, &#x27;MG&#x27;,\n",
              "       &#x27;MINI&#x27;, &#x27;Mahindra&#x27;, &#x27;Maruti&#x27;, &#x27;Mercedes-Benz&#x27;, &#x27;Nissan&#x27;, &#x27;Porsche&#x27;,\n",
              "       &#x27;Renault&#x27;, &#x27;Skoda&#x27;, &#x27;Tata&#x27;, &#x27;T...\n",
              "                                                                            array([&#x27;Ahmedabad&#x27;, &#x27;Ambattur&#x27;, &#x27;Bangalore&#x27;, &#x27;Chennai&#x27;, &#x27;Delhi&#x27;,\n",
              "       &#x27;Faridabad&#x27;, &#x27;Gurgaon&#x27;, &#x27;Hyderabad&#x27;, &#x27;Kolkata&#x27;, &#x27;Mumbai&#x27;, &#x27;Noida&#x27;,\n",
              "       &#x27;Pallikarnai&#x27;, &#x27;Poonamallee&#x27;, &#x27;Pune&#x27;, &#x27;Thane&#x27;, &#x27;Thiruvallur&#x27;],\n",
              "      dtype=object),\n",
              "                                                                            array([&#x27;CNG&#x27;, &#x27;Diesel&#x27;, &#x27;Diesel + 1&#x27;, &#x27;Electric&#x27;, &#x27;Hybrid&#x27;, &#x27;LPG&#x27;,\n",
              "       &#x27;Petrol&#x27;, &#x27;Petrol + 1&#x27;], dtype=object)]),\n",
              "                                                  [&#x27;car_name&#x27;, &#x27;city&#x27;,\n",
              "                                                   &#x27;fuel_type&#x27;])])),\n",
              "                (&#x27;linearregression&#x27;, LinearRegression())])</pre></div></div></div><div class=\"sk-serial\"><div class=\"sk-item sk-dashed-wrapped\"><div class=\"sk-label-container\"><div class=\"sk-label sk-toggleable\"><input class=\"sk-toggleable__control sk-hidden--visually\" id=\"sk-estimator-id-133\" type=\"checkbox\" ><label for=\"sk-estimator-id-133\" class=\"sk-toggleable__label sk-toggleable__label-arrow\">columntransformer: ColumnTransformer</label><div class=\"sk-toggleable__content\"><pre>ColumnTransformer(remainder=&#x27;passthrough&#x27;,\n",
              "                  transformers=[(&#x27;onehotencoder&#x27;,\n",
              "                                 OneHotEncoder(categories=[array([&#x27;Audi&#x27;, &#x27;BMW&#x27;, &#x27;Chevrolet&#x27;, &#x27;Citroen&#x27;, &#x27;Datsun&#x27;, &#x27;Fiat&#x27;, &#x27;Ford&#x27;,\n",
              "       &#x27;Honda&#x27;, &#x27;Hyundai&#x27;, &#x27;Isuzu&#x27;, &#x27;Jaguar&#x27;, &#x27;Jeep&#x27;, &#x27;Kia&#x27;, &#x27;Land&#x27;, &#x27;MG&#x27;,\n",
              "       &#x27;MINI&#x27;, &#x27;Mahindra&#x27;, &#x27;Maruti&#x27;, &#x27;Mercedes-Benz&#x27;, &#x27;Nissan&#x27;, &#x27;Porsche&#x27;,\n",
              "       &#x27;Renault&#x27;, &#x27;Skoda&#x27;, &#x27;Tata&#x27;, &#x27;Toyota&#x27;, &#x27;Volkswagen&#x27;, &#x27;Volvo&#x27;],\n",
              "      dtype=object),\n",
              "                                                           array([&#x27;Ahmedabad&#x27;, &#x27;Ambattur&#x27;, &#x27;Bangalore&#x27;, &#x27;Chennai&#x27;, &#x27;Delhi&#x27;,\n",
              "       &#x27;Faridabad&#x27;, &#x27;Gurgaon&#x27;, &#x27;Hyderabad&#x27;, &#x27;Kolkata&#x27;, &#x27;Mumbai&#x27;, &#x27;Noida&#x27;,\n",
              "       &#x27;Pallikarnai&#x27;, &#x27;Poonamallee&#x27;, &#x27;Pune&#x27;, &#x27;Thane&#x27;, &#x27;Thiruvallur&#x27;],\n",
              "      dtype=object),\n",
              "                                                           array([&#x27;CNG&#x27;, &#x27;Diesel&#x27;, &#x27;Diesel + 1&#x27;, &#x27;Electric&#x27;, &#x27;Hybrid&#x27;, &#x27;LPG&#x27;,\n",
              "       &#x27;Petrol&#x27;, &#x27;Petrol + 1&#x27;], dtype=object)]),\n",
              "                                 [&#x27;car_name&#x27;, &#x27;city&#x27;, &#x27;fuel_type&#x27;])])</pre></div></div></div><div class=\"sk-parallel\"><div class=\"sk-parallel-item\"><div class=\"sk-item\"><div class=\"sk-label-container\"><div class=\"sk-label sk-toggleable\"><input class=\"sk-toggleable__control sk-hidden--visually\" id=\"sk-estimator-id-134\" type=\"checkbox\" ><label for=\"sk-estimator-id-134\" class=\"sk-toggleable__label sk-toggleable__label-arrow\">onehotencoder</label><div class=\"sk-toggleable__content\"><pre>[&#x27;car_name&#x27;, &#x27;city&#x27;, &#x27;fuel_type&#x27;]</pre></div></div></div><div class=\"sk-serial\"><div class=\"sk-item\"><div class=\"sk-estimator sk-toggleable\"><input class=\"sk-toggleable__control sk-hidden--visually\" id=\"sk-estimator-id-135\" type=\"checkbox\" ><label for=\"sk-estimator-id-135\" class=\"sk-toggleable__label sk-toggleable__label-arrow\">OneHotEncoder</label><div class=\"sk-toggleable__content\"><pre>OneHotEncoder(categories=[array([&#x27;Audi&#x27;, &#x27;BMW&#x27;, &#x27;Chevrolet&#x27;, &#x27;Citroen&#x27;, &#x27;Datsun&#x27;, &#x27;Fiat&#x27;, &#x27;Ford&#x27;,\n",
              "       &#x27;Honda&#x27;, &#x27;Hyundai&#x27;, &#x27;Isuzu&#x27;, &#x27;Jaguar&#x27;, &#x27;Jeep&#x27;, &#x27;Kia&#x27;, &#x27;Land&#x27;, &#x27;MG&#x27;,\n",
              "       &#x27;MINI&#x27;, &#x27;Mahindra&#x27;, &#x27;Maruti&#x27;, &#x27;Mercedes-Benz&#x27;, &#x27;Nissan&#x27;, &#x27;Porsche&#x27;,\n",
              "       &#x27;Renault&#x27;, &#x27;Skoda&#x27;, &#x27;Tata&#x27;, &#x27;Toyota&#x27;, &#x27;Volkswagen&#x27;, &#x27;Volvo&#x27;],\n",
              "      dtype=object),\n",
              "                          array([&#x27;Ahmedabad&#x27;, &#x27;Ambattur&#x27;, &#x27;Bangalore&#x27;, &#x27;Chennai&#x27;, &#x27;Delhi&#x27;,\n",
              "       &#x27;Faridabad&#x27;, &#x27;Gurgaon&#x27;, &#x27;Hyderabad&#x27;, &#x27;Kolkata&#x27;, &#x27;Mumbai&#x27;, &#x27;Noida&#x27;,\n",
              "       &#x27;Pallikarnai&#x27;, &#x27;Poonamallee&#x27;, &#x27;Pune&#x27;, &#x27;Thane&#x27;, &#x27;Thiruvallur&#x27;],\n",
              "      dtype=object),\n",
              "                          array([&#x27;CNG&#x27;, &#x27;Diesel&#x27;, &#x27;Diesel + 1&#x27;, &#x27;Electric&#x27;, &#x27;Hybrid&#x27;, &#x27;LPG&#x27;,\n",
              "       &#x27;Petrol&#x27;, &#x27;Petrol + 1&#x27;], dtype=object)])</pre></div></div></div></div></div></div><div class=\"sk-parallel-item\"><div class=\"sk-item\"><div class=\"sk-label-container\"><div class=\"sk-label sk-toggleable\"><input class=\"sk-toggleable__control sk-hidden--visually\" id=\"sk-estimator-id-136\" type=\"checkbox\" ><label for=\"sk-estimator-id-136\" class=\"sk-toggleable__label sk-toggleable__label-arrow\">remainder</label><div class=\"sk-toggleable__content\"><pre>[&#x27;year_of_manufacture&#x27;, &#x27;kms_driven&#x27;]</pre></div></div></div><div class=\"sk-serial\"><div class=\"sk-item\"><div class=\"sk-estimator sk-toggleable\"><input class=\"sk-toggleable__control sk-hidden--visually\" id=\"sk-estimator-id-137\" type=\"checkbox\" ><label for=\"sk-estimator-id-137\" class=\"sk-toggleable__label sk-toggleable__label-arrow\">passthrough</label><div class=\"sk-toggleable__content\"><pre>passthrough</pre></div></div></div></div></div></div></div></div><div class=\"sk-item\"><div class=\"sk-estimator sk-toggleable\"><input class=\"sk-toggleable__control sk-hidden--visually\" id=\"sk-estimator-id-138\" type=\"checkbox\" ><label for=\"sk-estimator-id-138\" class=\"sk-toggleable__label sk-toggleable__label-arrow\">LinearRegression</label><div class=\"sk-toggleable__content\"><pre>LinearRegression()</pre></div></div></div></div></div></div></div>"
            ]
          },
          "metadata": {},
          "execution_count": 1314
        }
      ]
    },
    {
      "cell_type": "code",
      "source": [
        "y_pred=pipe.predict(x_test)"
      ],
      "metadata": {
        "id": "26PVpvhhIyva"
      },
      "execution_count": 1315,
      "outputs": []
    },
    {
      "cell_type": "code",
      "source": [
        "r2_score(y_test,y_pred)"
      ],
      "metadata": {
        "colab": {
          "base_uri": "https://localhost:8080/"
        },
        "id": "wznVcP2jNMn7",
        "outputId": "cf153a4f-8680-4116-e6f4-2c62456a7de0"
      },
      "execution_count": 1316,
      "outputs": [
        {
          "output_type": "execute_result",
          "data": {
            "text/plain": [
              "0.3647463162120892"
            ]
          },
          "metadata": {},
          "execution_count": 1316
        }
      ]
    },
    {
      "cell_type": "code",
      "source": [
        "scores=[]\n",
        "for i in range(500):\n",
        "    X_train,x_test,y_train,y_test=train_test_split(x,y,test_size=0.1,random_state=i)\n",
        "    lr=LinearRegression()\n",
        "    pipe=make_pipeline(column_trans,lr)\n",
        "    pipe.fit(X_train,y_train)\n",
        "    y_pred=pipe.predict(x_test)\n",
        "    scores.append(r2_score(y_test,y_pred))"
      ],
      "metadata": {
        "id": "2jsRCbDUNP3D"
      },
      "execution_count": 1317,
      "outputs": []
    },
    {
      "cell_type": "code",
      "source": [
        "np.argmax(scores)"
      ],
      "metadata": {
        "colab": {
          "base_uri": "https://localhost:8080/"
        },
        "id": "qXZXTKiQNTo6",
        "outputId": "ae5d40b8-f7d7-4613-e04e-b8304e866222"
      },
      "execution_count": 1318,
      "outputs": [
        {
          "output_type": "execute_result",
          "data": {
            "text/plain": [
              "327"
            ]
          },
          "metadata": {},
          "execution_count": 1318
        }
      ]
    },
    {
      "cell_type": "code",
      "source": [
        "scores[np.argmax(scores)]"
      ],
      "metadata": {
        "colab": {
          "base_uri": "https://localhost:8080/"
        },
        "id": "30Fz5i0pNhg2",
        "outputId": "74445617-c327-406b-ba5c-2d4a0125238f"
      },
      "execution_count": 1319,
      "outputs": [
        {
          "output_type": "execute_result",
          "data": {
            "text/plain": [
              "0.6491540126672095"
            ]
          },
          "metadata": {},
          "execution_count": 1319
        }
      ]
    },
    {
      "cell_type": "code",
      "source": [
        "X_train,X_test,y_train,y_test=train_test_split(x,y,test_size=0.1,random_state=np.argmax(scores))\n",
        "lr=LinearRegression()\n",
        "pipe=make_pipeline(column_trans,lr)\n",
        "pipe.fit(X_train,y_train)\n",
        "y_pred=pipe.predict(X_test)\n",
        "r2_score(y_test,y_pred)"
      ],
      "metadata": {
        "colab": {
          "base_uri": "https://localhost:8080/"
        },
        "id": "qFnArA1tNptN",
        "outputId": "9e8166e8-5cb4-4de1-89a4-b401ad6f1432"
      },
      "execution_count": 1320,
      "outputs": [
        {
          "output_type": "execute_result",
          "data": {
            "text/plain": [
              "0.6491540126672095"
            ]
          },
          "metadata": {},
          "execution_count": 1320
        }
      ]
    },
    {
      "cell_type": "code",
      "source": [
        "# Scatter plot for age vs. predicted heart disease risk\n",
        "plt.figure(figsize=(10, 5))\n",
        "plt.scatter(x_test['year_of_manufacture'], y_pred, c=y_test, cmap='coolwarm', alpha=0.7)\n",
        "plt.xlabel('year_of_manufacture')\n",
        "plt.ylabel('car_price')\n",
        "plt.title('year_of_manufacture vs. car_price')\n",
        "plt.grid(True)\n",
        "plt.show()"
      ],
      "metadata": {
        "colab": {
          "base_uri": "https://localhost:8080/",
          "height": 487
        },
        "id": "Yo0swF1-RZiX",
        "outputId": "75579b06-1b91-450e-ae21-1f862b948db2"
      },
      "execution_count": 1321,
      "outputs": [
        {
          "output_type": "display_data",
          "data": {
            "text/plain": [
              "<Figure size 1000x500 with 1 Axes>"
            ],
            "image/png": "[encoded data removed]"
          },
          "metadata": {}
        }
      ]
    },
    {
      "cell_type": "code",
      "source": [
        "#The scatter plot illustrates the relationship between the year of manufacture and car prices.\n",
        "# As the year of manufacture increases, car prices tend to decrease.\n",
        "# the prediction model is ready for the prediction of  used car price with 64% accuracy."
      ],
      "metadata": {
        "id": "3gJqKRYqVKWh"
      },
      "execution_count": 1321,
      "outputs": []
    }
  ],
  "metadata": {
    "kernelspec": {
      "display_name": "Python 3",
      "language": "python",
      "name": "python3"
    },
    "language_info": {
      "codemirror_mode": {
        "name": "ipython",
        "version": 3
      },
      "file_extension": ".py",
      "mimetype": "text/x-python",
      "name": "python",
      "nbconvert_exporter": "python",
      "pygments_lexer": "ipython3",
      "version": "3.8.3"
    },
    "colab": {
      "provenance": []
    }
  },
  "nbformat": 4,
  "nbformat_minor": 0
}